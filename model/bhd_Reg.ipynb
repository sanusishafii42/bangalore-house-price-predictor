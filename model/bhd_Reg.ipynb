{
 "cells": [
  {
   "cell_type": "code",
   "execution_count": 34,
   "id": "9c0ef156",
   "metadata": {},
   "outputs": [],
   "source": [
    "# --- Imports ---\n",
    "import pandas as pd\n",
    "import numpy as np\n",
    "import matplotlib.pyplot as plt\n",
    "from sklearn.ensemble import RandomForestRegressor, GradientBoostingRegressor\n",
    "from sklearn.svm import SVR\n",
    "from sklearn.linear_model import Lasso, Ridge\n",
    "from sklearn.preprocessing import OneHotEncoder, StandardScaler, OrdinalEncoder\n",
    "from sklearn.impute import SimpleImputer\n",
    "from sklearn.compose import ColumnTransformer\n",
    "from sklearn.pipeline import Pipeline\n",
    "from sklearn.model_selection import train_test_split, RandomizedSearchCV, cross_val_score\n",
    "from sklearn.metrics import mean_squared_error, r2_score\n",
    "from xgboost import XGBRegressor, XGBRFRegressor\n",
    "import warnings\n",
    "\n",
    "warnings.filterwarnings('ignore')\n"
   ]
  },
  {
   "cell_type": "code",
   "execution_count": 35,
   "id": "c130f0e3",
   "metadata": {},
   "outputs": [],
   "source": [
    "# --- Data Loading & Cleaning ---\n",
    "data = pd.read_csv('bhd.csv')\n",
    "data.drop('society', axis=1, inplace=True)\n",
    "data['total_sqft'] = pd.to_numeric(data['total_sqft'], errors='coerce')\n",
    "data.dropna(subset=['total_sqft', 'bath', 'location'], inplace=True)\n",
    "data['total_sqft'] = data['total_sqft'].astype(int)\n",
    "\n",
    "# --- Feature Selection ---\n",
    "X = data.drop(\"price\", axis=1)\n",
    "y = data[\"price\"]\n",
    "\n",
    "categorical_cols = [\"area_type\", \"availability\", \"location\", \"size\"]\n",
    "numerical_cols = [col for col in X.columns if col not in categorical_cols]\n",
    "\n",
    "# --- Preprocessing Pipelines ---\n",
    "numeric_transformer = Pipeline([\n",
    "    ('imputer', SimpleImputer(strategy='median')),\n",
    "    ('scaler', StandardScaler())\n",
    "])\n",
    "\n",
    "categorical_transformer = Pipeline([\n",
    "    ('imputer', SimpleImputer(strategy='constant', fill_value='unknown')),\n",
    "    ('onehot', OneHotEncoder(handle_unknown='ignore', drop='first'))\n",
    "])\n",
    "\n",
    "preprocessor = ColumnTransformer([\n",
    "    ('num', numeric_transformer, numerical_cols),\n",
    "    ('cat', categorical_transformer, categorical_cols)\n",
    "])"
   ]
  },
  {
   "cell_type": "code",
   "execution_count": 36,
   "id": "434377d2",
   "metadata": {},
   "outputs": [
    {
     "data": {
      "application/vnd.microsoft.datawrangler.viewer.v0+json": {
       "columns": [
        {
         "name": "index",
         "rawType": "int64",
         "type": "integer"
        },
        {
         "name": "area_type",
         "rawType": "object",
         "type": "string"
        },
        {
         "name": "availability",
         "rawType": "object",
         "type": "string"
        },
        {
         "name": "location",
         "rawType": "object",
         "type": "string"
        },
        {
         "name": "size",
         "rawType": "object",
         "type": "string"
        },
        {
         "name": "total_sqft",
         "rawType": "int64",
         "type": "integer"
        },
        {
         "name": "bath",
         "rawType": "float64",
         "type": "float"
        },
        {
         "name": "balcony",
         "rawType": "float64",
         "type": "float"
        },
        {
         "name": "price",
         "rawType": "float64",
         "type": "float"
        }
       ],
       "ref": "e77fe979-c450-4a03-a153-a434fc105c64",
       "rows": [
        [
         "0",
         "Super built-up  Area",
         "19-Dec",
         "Electronic City Phase II",
         "2 BHK",
         "1056",
         "2.0",
         "1.0",
         "39.07"
        ],
        [
         "1",
         "Plot  Area",
         "Ready To Move",
         "Chikka Tirupathi",
         "4 Bedroom",
         "2600",
         "5.0",
         "3.0",
         "120.0"
        ],
        [
         "2",
         "Built-up  Area",
         "Ready To Move",
         "Uttarahalli",
         "3 BHK",
         "1440",
         "2.0",
         "3.0",
         "62.0"
        ],
        [
         "3",
         "Super built-up  Area",
         "Ready To Move",
         "Lingadheeranahalli",
         "3 BHK",
         "1521",
         "3.0",
         "1.0",
         "95.0"
        ],
        [
         "4",
         "Super built-up  Area",
         "Ready To Move",
         "Kothanur",
         "2 BHK",
         "1200",
         "2.0",
         "1.0",
         "51.0"
        ],
        [
         "5",
         "Super built-up  Area",
         "Ready To Move",
         "Whitefield",
         "2 BHK",
         "1170",
         "2.0",
         "1.0",
         "38.0"
        ],
        [
         "6",
         "Super built-up  Area",
         "18-May",
         "Old Airport Road",
         "4 BHK",
         "2732",
         "4.0",
         null,
         "204.0"
        ],
        [
         "7",
         "Super built-up  Area",
         "Ready To Move",
         "Rajaji Nagar",
         "4 BHK",
         "3300",
         "4.0",
         null,
         "600.0"
        ],
        [
         "8",
         "Super built-up  Area",
         "Ready To Move",
         "Marathahalli",
         "3 BHK",
         "1310",
         "3.0",
         "1.0",
         "63.25"
        ],
        [
         "9",
         "Plot  Area",
         "Ready To Move",
         "Gandhi Bazar",
         "6 Bedroom",
         "1020",
         "6.0",
         null,
         "370.0"
        ],
        [
         "10",
         "Super built-up  Area",
         "18-Feb",
         "Whitefield",
         "3 BHK",
         "1800",
         "2.0",
         "2.0",
         "70.0"
        ],
        [
         "11",
         "Plot  Area",
         "Ready To Move",
         "Whitefield",
         "4 Bedroom",
         "2785",
         "5.0",
         "3.0",
         "295.0"
        ],
        [
         "12",
         "Super built-up  Area",
         "Ready To Move",
         "7th Phase JP Nagar",
         "2 BHK",
         "1000",
         "2.0",
         "1.0",
         "38.0"
        ],
        [
         "13",
         "Built-up  Area",
         "Ready To Move",
         "Gottigere",
         "2 BHK",
         "1100",
         "2.0",
         "2.0",
         "40.0"
        ],
        [
         "14",
         "Plot  Area",
         "Ready To Move",
         "Sarjapur",
         "3 Bedroom",
         "2250",
         "3.0",
         "2.0",
         "148.0"
        ],
        [
         "15",
         "Super built-up  Area",
         "Ready To Move",
         "Mysore Road",
         "2 BHK",
         "1175",
         "2.0",
         "2.0",
         "73.5"
        ],
        [
         "16",
         "Super built-up  Area",
         "Ready To Move",
         "Bisuvanahalli",
         "3 BHK",
         "1180",
         "3.0",
         "2.0",
         "48.0"
        ],
        [
         "17",
         "Super built-up  Area",
         "Ready To Move",
         "Raja Rajeshwari Nagar",
         "3 BHK",
         "1540",
         "3.0",
         "3.0",
         "60.0"
        ],
        [
         "18",
         "Super built-up  Area",
         "Ready To Move",
         "Ramakrishnappa Layout",
         "3 BHK",
         "2770",
         "4.0",
         "2.0",
         "290.0"
        ],
        [
         "19",
         "Super built-up  Area",
         "Ready To Move",
         "Manayata Tech Park",
         "2 BHK",
         "1100",
         "2.0",
         "2.0",
         "48.0"
        ],
        [
         "20",
         "Built-up  Area",
         "Ready To Move",
         "Kengeri",
         "1 BHK",
         "600",
         "1.0",
         "1.0",
         "15.0"
        ],
        [
         "21",
         "Super built-up  Area",
         "19-Dec",
         "Binny Pete",
         "3 BHK",
         "1755",
         "3.0",
         "1.0",
         "122.0"
        ],
        [
         "22",
         "Plot  Area",
         "Ready To Move",
         "Thanisandra",
         "4 Bedroom",
         "2800",
         "5.0",
         "2.0",
         "380.0"
        ],
        [
         "23",
         "Super built-up  Area",
         "Ready To Move",
         "Bellandur",
         "3 BHK",
         "1767",
         "3.0",
         "1.0",
         "103.0"
        ],
        [
         "24",
         "Super built-up  Area",
         "18-Nov",
         " Thanisandra",
         "1 RK",
         "510",
         "1.0",
         "0.0",
         "25.25"
        ],
        [
         "25",
         "Super built-up  Area",
         "18-May",
         "Mangammanapalya",
         "3 BHK",
         "1250",
         "3.0",
         "2.0",
         "56.0"
        ],
        [
         "26",
         "Super built-up  Area",
         "Ready To Move",
         "Electronic City",
         "2 BHK",
         "660",
         "1.0",
         "1.0",
         "23.1"
        ],
        [
         "27",
         "Built-up  Area",
         "20-Dec",
         "Whitefield",
         "3 BHK",
         "1610",
         "3.0",
         "2.0",
         "81.0"
        ],
        [
         "28",
         "Super built-up  Area",
         "17-Oct",
         "Ramagondanahalli",
         "2 BHK",
         "1151",
         "2.0",
         "2.0",
         "48.77"
        ],
        [
         "29",
         "Super built-up  Area",
         "Ready To Move",
         "Electronic City",
         "3 BHK",
         "1025",
         "2.0",
         "1.0",
         "47.0"
        ],
        [
         "31",
         "Super built-up  Area",
         "Ready To Move",
         "Bisuvanahalli",
         "3 BHK",
         "1075",
         "2.0",
         "1.0",
         "35.0"
        ],
        [
         "32",
         "Super built-up  Area",
         "Ready To Move",
         "Hebbal",
         "3 BHK",
         "1760",
         "2.0",
         "2.0",
         "123.0"
        ],
        [
         "33",
         "Super built-up  Area",
         "Ready To Move",
         "Raja Rajeshwari Nagar",
         "3 BHK",
         "1693",
         "3.0",
         "3.0",
         "57.39"
        ],
        [
         "34",
         "Built-up  Area",
         "Ready To Move",
         "Kasturi Nagar",
         "3 BHK",
         "1925",
         "3.0",
         null,
         "125.0"
        ],
        [
         "35",
         "Super built-up  Area",
         "21-Dec",
         "Kanakpura Road",
         "2 BHK",
         "700",
         "2.0",
         "1.0",
         "36.0"
        ],
        [
         "36",
         "Super built-up  Area",
         "Ready To Move",
         "Electronics City Phase 1",
         "2 BHK",
         "1070",
         "2.0",
         "1.0",
         "45.5"
        ],
        [
         "37",
         "Super built-up  Area",
         "Ready To Move",
         "Kundalahalli",
         "3 BHK",
         "1724",
         "3.0",
         "2.0",
         "125.0"
        ],
        [
         "38",
         "Super built-up  Area",
         "Ready To Move",
         "Chikkalasandra",
         "3 BHK",
         "1290",
         "2.0",
         "2.0",
         "56.12"
        ],
        [
         "39",
         "Built-up  Area",
         "Ready To Move",
         "Uttarahalli",
         "2 BHK",
         "1143",
         "2.0",
         "2.0",
         "45.0"
        ],
        [
         "40",
         "Built-up  Area",
         "Ready To Move",
         "Murugeshpalya",
         "2 BHK",
         "1296",
         "2.0",
         null,
         "81.0"
        ],
        [
         "41",
         "Super built-up  Area",
         "19-Dec",
         "Sarjapur  Road",
         "3 BHK",
         "1254",
         "3.0",
         "2.0",
         "38.0"
        ],
        [
         "42",
         "Super built-up  Area",
         "Ready To Move",
         "Ganga Nagar",
         "1 BHK",
         "600",
         "1.0",
         "0.0",
         "38.0"
        ],
        [
         "43",
         "Plot  Area",
         "Ready To Move",
         "Yelahanka",
         "1 Bedroom",
         "660",
         "1.0",
         "0.0",
         "48.0"
        ],
        [
         "44",
         "Super built-up  Area",
         "19-Sep",
         "Kanakpura Road",
         "2 BHK",
         "1330",
         "2.0",
         "2.0",
         "91.79"
        ],
        [
         "45",
         "Plot  Area",
         "Ready To Move",
         "HSR Layout",
         "8 Bedroom",
         "600",
         "9.0",
         null,
         "200.0"
        ],
        [
         "46",
         "Super built-up  Area",
         "Ready To Move",
         "Doddathoguru",
         "2 BHK",
         "970",
         "2.0",
         "0.0",
         "33.0"
        ],
        [
         "47",
         "Super built-up  Area",
         "20-Sep",
         "Whitefield",
         "2 BHK",
         "1459",
         "2.0",
         "1.0",
         "94.82"
        ],
        [
         "48",
         "Plot  Area",
         "Ready To Move",
         "KR Puram",
         "2 Bedroom",
         "800",
         "1.0",
         "1.0",
         "130.0"
        ],
        [
         "49",
         "Built-up  Area",
         "Ready To Move",
         "Himagiri Meadows",
         "2 BHK",
         "869",
         "2.0",
         "1.0",
         "36.0"
        ],
        [
         "50",
         "Super built-up  Area",
         "Ready To Move",
         "Adarsh Nagar",
         "2 BHK",
         "1270",
         "2.0",
         "1.0",
         "50.0"
        ]
       ],
       "shape": {
        "columns": 8,
        "rows": 13056
       }
      },
      "text/html": [
       "<div>\n",
       "<style scoped>\n",
       "    .dataframe tbody tr th:only-of-type {\n",
       "        vertical-align: middle;\n",
       "    }\n",
       "\n",
       "    .dataframe tbody tr th {\n",
       "        vertical-align: top;\n",
       "    }\n",
       "\n",
       "    .dataframe thead th {\n",
       "        text-align: right;\n",
       "    }\n",
       "</style>\n",
       "<table border=\"1\" class=\"dataframe\">\n",
       "  <thead>\n",
       "    <tr style=\"text-align: right;\">\n",
       "      <th></th>\n",
       "      <th>area_type</th>\n",
       "      <th>availability</th>\n",
       "      <th>location</th>\n",
       "      <th>size</th>\n",
       "      <th>total_sqft</th>\n",
       "      <th>bath</th>\n",
       "      <th>balcony</th>\n",
       "      <th>price</th>\n",
       "    </tr>\n",
       "  </thead>\n",
       "  <tbody>\n",
       "    <tr>\n",
       "      <th>0</th>\n",
       "      <td>Super built-up  Area</td>\n",
       "      <td>19-Dec</td>\n",
       "      <td>Electronic City Phase II</td>\n",
       "      <td>2 BHK</td>\n",
       "      <td>1056</td>\n",
       "      <td>2.0</td>\n",
       "      <td>1.0</td>\n",
       "      <td>39.07</td>\n",
       "    </tr>\n",
       "    <tr>\n",
       "      <th>1</th>\n",
       "      <td>Plot  Area</td>\n",
       "      <td>Ready To Move</td>\n",
       "      <td>Chikka Tirupathi</td>\n",
       "      <td>4 Bedroom</td>\n",
       "      <td>2600</td>\n",
       "      <td>5.0</td>\n",
       "      <td>3.0</td>\n",
       "      <td>120.00</td>\n",
       "    </tr>\n",
       "    <tr>\n",
       "      <th>2</th>\n",
       "      <td>Built-up  Area</td>\n",
       "      <td>Ready To Move</td>\n",
       "      <td>Uttarahalli</td>\n",
       "      <td>3 BHK</td>\n",
       "      <td>1440</td>\n",
       "      <td>2.0</td>\n",
       "      <td>3.0</td>\n",
       "      <td>62.00</td>\n",
       "    </tr>\n",
       "    <tr>\n",
       "      <th>3</th>\n",
       "      <td>Super built-up  Area</td>\n",
       "      <td>Ready To Move</td>\n",
       "      <td>Lingadheeranahalli</td>\n",
       "      <td>3 BHK</td>\n",
       "      <td>1521</td>\n",
       "      <td>3.0</td>\n",
       "      <td>1.0</td>\n",
       "      <td>95.00</td>\n",
       "    </tr>\n",
       "    <tr>\n",
       "      <th>4</th>\n",
       "      <td>Super built-up  Area</td>\n",
       "      <td>Ready To Move</td>\n",
       "      <td>Kothanur</td>\n",
       "      <td>2 BHK</td>\n",
       "      <td>1200</td>\n",
       "      <td>2.0</td>\n",
       "      <td>1.0</td>\n",
       "      <td>51.00</td>\n",
       "    </tr>\n",
       "    <tr>\n",
       "      <th>...</th>\n",
       "      <td>...</td>\n",
       "      <td>...</td>\n",
       "      <td>...</td>\n",
       "      <td>...</td>\n",
       "      <td>...</td>\n",
       "      <td>...</td>\n",
       "      <td>...</td>\n",
       "      <td>...</td>\n",
       "    </tr>\n",
       "    <tr>\n",
       "      <th>13315</th>\n",
       "      <td>Built-up  Area</td>\n",
       "      <td>Ready To Move</td>\n",
       "      <td>Whitefield</td>\n",
       "      <td>5 Bedroom</td>\n",
       "      <td>3453</td>\n",
       "      <td>4.0</td>\n",
       "      <td>0.0</td>\n",
       "      <td>231.00</td>\n",
       "    </tr>\n",
       "    <tr>\n",
       "      <th>13316</th>\n",
       "      <td>Super built-up  Area</td>\n",
       "      <td>Ready To Move</td>\n",
       "      <td>Richards Town</td>\n",
       "      <td>4 BHK</td>\n",
       "      <td>3600</td>\n",
       "      <td>5.0</td>\n",
       "      <td>NaN</td>\n",
       "      <td>400.00</td>\n",
       "    </tr>\n",
       "    <tr>\n",
       "      <th>13317</th>\n",
       "      <td>Built-up  Area</td>\n",
       "      <td>Ready To Move</td>\n",
       "      <td>Raja Rajeshwari Nagar</td>\n",
       "      <td>2 BHK</td>\n",
       "      <td>1141</td>\n",
       "      <td>2.0</td>\n",
       "      <td>1.0</td>\n",
       "      <td>60.00</td>\n",
       "    </tr>\n",
       "    <tr>\n",
       "      <th>13318</th>\n",
       "      <td>Super built-up  Area</td>\n",
       "      <td>18-Jun</td>\n",
       "      <td>Padmanabhanagar</td>\n",
       "      <td>4 BHK</td>\n",
       "      <td>4689</td>\n",
       "      <td>4.0</td>\n",
       "      <td>1.0</td>\n",
       "      <td>488.00</td>\n",
       "    </tr>\n",
       "    <tr>\n",
       "      <th>13319</th>\n",
       "      <td>Super built-up  Area</td>\n",
       "      <td>Ready To Move</td>\n",
       "      <td>Doddathoguru</td>\n",
       "      <td>1 BHK</td>\n",
       "      <td>550</td>\n",
       "      <td>1.0</td>\n",
       "      <td>1.0</td>\n",
       "      <td>17.00</td>\n",
       "    </tr>\n",
       "  </tbody>\n",
       "</table>\n",
       "<p>13056 rows × 8 columns</p>\n",
       "</div>"
      ],
      "text/plain": [
       "                  area_type   availability                  location  \\\n",
       "0      Super built-up  Area         19-Dec  Electronic City Phase II   \n",
       "1                Plot  Area  Ready To Move          Chikka Tirupathi   \n",
       "2            Built-up  Area  Ready To Move               Uttarahalli   \n",
       "3      Super built-up  Area  Ready To Move        Lingadheeranahalli   \n",
       "4      Super built-up  Area  Ready To Move                  Kothanur   \n",
       "...                     ...            ...                       ...   \n",
       "13315        Built-up  Area  Ready To Move                Whitefield   \n",
       "13316  Super built-up  Area  Ready To Move             Richards Town   \n",
       "13317        Built-up  Area  Ready To Move     Raja Rajeshwari Nagar   \n",
       "13318  Super built-up  Area         18-Jun           Padmanabhanagar   \n",
       "13319  Super built-up  Area  Ready To Move              Doddathoguru   \n",
       "\n",
       "            size  total_sqft  bath  balcony   price  \n",
       "0          2 BHK        1056   2.0      1.0   39.07  \n",
       "1      4 Bedroom        2600   5.0      3.0  120.00  \n",
       "2          3 BHK        1440   2.0      3.0   62.00  \n",
       "3          3 BHK        1521   3.0      1.0   95.00  \n",
       "4          2 BHK        1200   2.0      1.0   51.00  \n",
       "...          ...         ...   ...      ...     ...  \n",
       "13315  5 Bedroom        3453   4.0      0.0  231.00  \n",
       "13316      4 BHK        3600   5.0      NaN  400.00  \n",
       "13317      2 BHK        1141   2.0      1.0   60.00  \n",
       "13318      4 BHK        4689   4.0      1.0  488.00  \n",
       "13319      1 BHK         550   1.0      1.0   17.00  \n",
       "\n",
       "[13056 rows x 8 columns]"
      ]
     },
     "execution_count": 36,
     "metadata": {},
     "output_type": "execute_result"
    }
   ],
   "source": [
    "data"
   ]
  },
  {
   "cell_type": "code",
   "execution_count": 37,
   "id": "62817418",
   "metadata": {},
   "outputs": [],
   "source": [
    "data.sort_values(by='price', axis=0, inplace=True)\n",
    "data.reset_index(drop=True, inplace=True)"
   ]
  },
  {
   "cell_type": "code",
   "execution_count": 38,
   "id": "0fa9e264",
   "metadata": {},
   "outputs": [],
   "source": [
    "max = data['price'].max()\n",
    "min = data['price'].min()\n",
    "avrg = (max+min)/2"
   ]
  },
  {
   "cell_type": "code",
   "execution_count": 39,
   "id": "adf46db5",
   "metadata": {},
   "outputs": [],
   "source": [
    "X_train, X_test, y_train, y_test = train_test_split(X, y, test_size=0.2, random_state=42)"
   ]
  },
  {
   "cell_type": "code",
   "execution_count": 40,
   "id": "be4802ff",
   "metadata": {},
   "outputs": [],
   "source": [
    "# --- Model Definitions ---\n",
    "models = {\n",
    "    \"GradientBoosting\": GradientBoostingRegressor(n_estimators=200, learning_rate=0.05, max_depth=5, subsample=0.8, random_state=42),\n",
    "    \"XGBoost\": XGBRegressor(n_estimators=200, learning_rate=0.05, max_depth=5, subsample=0.8, colsample_bytree=0.8, reg_lambda=1, reg_alpha=1, random_state=42),\n",
    "}"
   ]
  },
  {
   "cell_type": "code",
   "execution_count": 41,
   "id": "17e2a569",
   "metadata": {},
   "outputs": [],
   "source": [
    "# # --- Model Training & Evaluation ---\n",
    "# results = []\n",
    "\n",
    "# for name, model in models.items():\n",
    "#     pipeline = Pipeline([\n",
    "#         (\"preprocessor\", preprocessor),\n",
    "#         (\"regressor\", model)\n",
    "#     ])\n",
    "#     pipeline.fit(X_train, y_train)\n",
    "#     y_pred = pipeline.predict(X_test)\n",
    "#     train_score = pipeline.score(X_train, y_train)\n",
    "#     test_score = pipeline.score(X_test, y_test)\n",
    "#     mse = mean_squared_error(y_test, y_pred)\n",
    "#     r2 = r2_score(y_test, y_pred)\n",
    "#     cv_score = cross_val_score(pipeline, X, y, cv=5, scoring='r2').mean()\n",
    "#     results.append({\n",
    "#         \"Model\": name,\n",
    "#         \"Train R2\": train_score,\n",
    "#         \"Test R2\": test_score,\n",
    "#         \"Test MSE\": mse,\n",
    "#         \"CV R2\": cv_score\n",
    "#     })\n",
    "#     print(f\"{name} | Train R2: {train_score:.3f} | Test R2: {test_score:.3f} | Test MSE: {mse:.2f} | CV R2: {cv_score:.3f}\")\n",
    "\n",
    "# # --- Results DataFrame ---\n",
    "# results_df = pd.DataFrame(results)\n",
    "# print(\"\\nSummary of Model Performance:\")\n",
    "# display(results_df.sort_values(by=\"Test R2\", ascending=False))"
   ]
  },
  {
   "cell_type": "code",
   "execution_count": 42,
   "id": "e1aabcd8",
   "metadata": {},
   "outputs": [],
   "source": [
    "top_location = data['size'].value_counts().nlargest(10)\n",
    "top_availb =  data['availability'].value_counts().nlargest(2).index\n",
    "data['availability'] = data['availability'].apply(lambda x: x if x in top_availb else 'Not Yet Ready')"
   ]
  },
  {
   "cell_type": "code",
   "execution_count": 43,
   "id": "00b290e4",
   "metadata": {},
   "outputs": [],
   "source": [
    "data['size'] = data['size'].str.extract('(\\d)').astype(float)"
   ]
  },
  {
   "cell_type": "code",
   "execution_count": 44,
   "id": "3cdbd43d",
   "metadata": {},
   "outputs": [],
   "source": [
    "data['balcony'] = data['balcony'].fillna(data['balcony'].mean())"
   ]
  },
  {
   "cell_type": "code",
   "execution_count": 45,
   "id": "b056a3cc",
   "metadata": {},
   "outputs": [
    {
     "data": {
      "text/plain": [
       "255"
      ]
     },
     "execution_count": 45,
     "metadata": {},
     "output_type": "execute_result"
    }
   ],
   "source": [
    "data['location'] = data['location'].apply(lambda x: x.strip())\n",
    "location_stats =  data.groupby('location')['location'].agg('count').sort_values(ascending=False)\n",
    "location_stats_less_than_10 = location_stats[location_stats<10]\n",
    "data.location = data['location'].apply(\n",
    "    lambda x: 'Other location' \n",
    "    if x in location_stats_less_than_10 else x)\n",
    "\n",
    "len(data['location'].unique())"
   ]
  },
  {
   "cell_type": "code",
   "execution_count": 46,
   "id": "26a28e22",
   "metadata": {},
   "outputs": [],
   "source": [
    "data1 = data.copy()\n",
    "data1['price_per_sqft'] = data1['price']*10000 / data1['total_sqft']\n",
    "\n",
    "data1['location'] = data1['location'].apply(lambda x: x.strip())\n",
    "location_stats =  data1.groupby('location')['location'].agg('count').sort_values(ascending=False)\n",
    "location_stats_less_than_10 = location_stats[location_stats<10]"
   ]
  },
  {
   "cell_type": "code",
   "execution_count": 47,
   "id": "627fd3db",
   "metadata": {},
   "outputs": [
    {
     "data": {
      "text/plain": [
       "(12328, 9)"
      ]
     },
     "execution_count": 47,
     "metadata": {},
     "output_type": "execute_result"
    }
   ],
   "source": [
    "#Removing some outliers using domain knoledge\n",
    "data2 = data1[~((data1['total_sqft']/data1['size'])<300)]\n",
    "data2.shape"
   ]
  },
  {
   "cell_type": "code",
   "execution_count": 48,
   "id": "9b032fb4",
   "metadata": {},
   "outputs": [
    {
     "data": {
      "text/plain": [
       "(10138, 9)"
      ]
     },
     "execution_count": 48,
     "metadata": {},
     "output_type": "execute_result"
    }
   ],
   "source": [
    "def remove_price_per_sq_outliers(dataframe):\n",
    "    df_out = pd.DataFrame()\n",
    "    for key, sub_df in dataframe.groupby('location'):\n",
    "        m = np.mean(sub_df['price_per_sqft'])\n",
    "        st = np.std(sub_df['price_per_sqft'])\n",
    "        reduced_df = sub_df[(sub_df['price_per_sqft']>(m-st)) & (sub_df['price_per_sqft']<=(m+st))]\n",
    "        df_out = pd.concat([df_out, reduced_df], ignore_index=True)\n",
    "    return df_out\n",
    "data3 = remove_price_per_sq_outliers(data2)\n",
    "data3.shape"
   ]
  },
  {
   "cell_type": "code",
   "execution_count": 62,
   "id": "2d2dd0d8",
   "metadata": {},
   "outputs": [
    {
     "data": {
      "image/png": "[encoded data removed]",
      "text/plain": [
       "<Figure size 1000x600 with 1 Axes>"
      ]
     },
     "metadata": {},
     "output_type": "display_data"
    }
   ],
   "source": [
    "def plot_scatter_chart(dataframe, location):\n",
    "    size2 = dataframe[(dataframe['location'] == location) & (dataframe['size'] == 2)]\n",
    "    size3 = dataframe[(dataframe['location'] == location) & (dataframe['size'] == 3)]\n",
    "    plt.figure(figsize=(10,6))\n",
    "    plt.scatter(size2.total_sqft, size2.price, color='blue', label='2 size', s=50)\n",
    "    plt.scatter(size3.total_sqft, size3.price, color='green', marker='+', label='3 size', s=50)\n",
    "    plt.xlabel('Total Square Feet')\n",
    "    plt.ylabel('Price Per Square Feet')\n",
    "    plt.legend()\n",
    "plot_scatter_chart(data3, 'Hebbal')"
   ]
  },
  {
   "cell_type": "code",
   "execution_count": 63,
   "id": "ac2d4037",
   "metadata": {},
   "outputs": [
    {
     "data": {
      "text/plain": [
       "(7236, 9)"
      ]
     },
     "execution_count": 63,
     "metadata": {},
     "output_type": "execute_result"
    }
   ],
   "source": [
    "def remove_bedroom_outliers(dataframe):\n",
    "    exclude_indices = np.array([])\n",
    "    for location, df_location in dataframe.groupby('location'):\n",
    "        bedroom_stat = {}\n",
    "        for bedroom, df_bedroom in df_location.groupby('size'):\n",
    "            bedroom_stat[bedroom] = {\n",
    "                'mean': np.mean(df_bedroom['price_per_sqft']),\n",
    "                'std': np.std(df_bedroom['price_per_sqft']),\n",
    "                'count': df_bedroom.shape[0]\n",
    "            }\n",
    "        for bedroom, df_bedroom in df_location.groupby('size'):\n",
    "            stats = bedroom_stat.get(bedroom-1)\n",
    "            if stats and stats['count']>5:\n",
    "                exclude_indices = np.append(exclude_indices, df_bedroom[df_bedroom['price_per_sqft']<(stats['mean'])].index.values)\n",
    "    return dataframe.drop(exclude_indices, axis = 'index')\n",
    "\n",
    "data4 = remove_bedroom_outliers(data3)\n",
    "data4.shape"
   ]
  },
  {
   "cell_type": "code",
   "execution_count": 64,
   "id": "8c6d818e",
   "metadata": {},
   "outputs": [
    {
     "data": {
      "image/png": "[encoded data removed]",
      "text/plain": [
       "<Figure size 1000x600 with 1 Axes>"
      ]
     },
     "metadata": {},
     "output_type": "display_data"
    }
   ],
   "source": [
    "plot_scatter_chart(data4, 'Hebbal')"
   ]
  },
  {
   "cell_type": "code",
   "execution_count": 53,
   "id": "7fc3262e",
   "metadata": {},
   "outputs": [
    {
     "data": {
      "text/plain": [
       "(7220, 9)"
      ]
     },
     "execution_count": 53,
     "metadata": {},
     "output_type": "execute_result"
    }
   ],
   "source": [
    "#Removing Outliers of Bathroom Greater Than Bedroom + 2 in Our Data Set\n",
    "data5 = data4[~(data4['bath']>(data4['size'] + 2))]\n",
    "data5.shape"
   ]
  },
  {
   "cell_type": "code",
   "execution_count": 57,
   "id": "ac673a78",
   "metadata": {},
   "outputs": [
    {
     "data": {
      "application/vnd.microsoft.datawrangler.viewer.v0+json": {
       "columns": [
        {
         "name": "location",
         "rawType": "object",
         "type": "string"
        },
        {
         "name": "location",
         "rawType": "int64",
         "type": "integer"
        }
       ],
       "ref": "f1f2296b-a831-4f4c-81a1-ba6f4e61fcab",
       "rows": [
        [
         "Other location",
         "1064"
        ],
        [
         "Whitefield",
         "213"
        ],
        [
         "Sarjapur  Road",
         "190"
        ],
        [
         "Electronic City",
         "162"
        ],
        [
         "Raja Rajeshwari Nagar",
         "140"
        ],
        [
         "Uttarahalli",
         "120"
        ],
        [
         "Haralur Road",
         "118"
        ],
        [
         "Marathahalli",
         "116"
        ],
        [
         "Hennur Road",
         "107"
        ],
        [
         "Hebbal",
         "105"
        ],
        [
         "Bannerghatta Road",
         "104"
        ],
        [
         "Thanisandra",
         "100"
        ],
        [
         "Electronic City Phase II",
         "90"
        ],
        [
         "7th Phase JP Nagar",
         "86"
        ],
        [
         "Yelahanka",
         "83"
        ],
        [
         "Kanakpura Road",
         "78"
        ],
        [
         "Bellandur",
         "73"
        ],
        [
         "KR Puram",
         "60"
        ],
        [
         "Chandapura",
         "59"
        ],
        [
         "Harlur",
         "59"
        ],
        [
         "Sarjapur",
         "55"
        ],
        [
         "Kasavanhalli",
         "53"
        ],
        [
         "Begur Road",
         "52"
        ],
        [
         "Banashankari",
         "50"
        ],
        [
         "Rajaji Nagar",
         "49"
        ],
        [
         "Kothanur",
         "49"
        ],
        [
         "Hormavu",
         "45"
        ],
        [
         "Electronics City Phase 1",
         "44"
        ],
        [
         "Akshaya Nagar",
         "43"
        ],
        [
         "Jakkur",
         "41"
        ],
        [
         "Ramamurthy Nagar",
         "41"
        ],
        [
         "Hennur",
         "41"
        ],
        [
         "Koramangala",
         "40"
        ],
        [
         "Hulimavu",
         "40"
        ],
        [
         "HSR Layout",
         "39"
        ],
        [
         "Kaggadasapura",
         "39"
        ],
        [
         "Varthur",
         "39"
        ],
        [
         "Ramagondanahalli",
         "38"
        ],
        [
         "Kundalahalli",
         "38"
        ],
        [
         "Malleshwaram",
         "37"
        ],
        [
         "Budigere",
         "36"
        ],
        [
         "Yeshwanthpur",
         "35"
        ],
        [
         "8th Phase JP Nagar",
         "35"
        ],
        [
         "Hegde Nagar",
         "34"
        ],
        [
         "Hoodi",
         "34"
        ],
        [
         "Kengeri",
         "33"
        ],
        [
         "Thigalarapalya",
         "33"
        ],
        [
         "JP Nagar",
         "33"
        ],
        [
         "Old Madras Road",
         "32"
        ],
        [
         "Hosa Road",
         "32"
        ]
       ],
       "shape": {
        "columns": 1,
        "rows": 255
       }
      },
      "text/plain": [
       "location\n",
       "Other location           1064\n",
       "Whitefield                213\n",
       "Sarjapur  Road            190\n",
       "Electronic City           162\n",
       "Raja Rajeshwari Nagar     140\n",
       "                         ... \n",
       "ITPL                        4\n",
       "Thyagaraja Nagar            4\n",
       "Vishveshwarya Layout        4\n",
       "Marsur                      3\n",
       "BTM 1st Stage               2\n",
       "Name: location, Length: 255, dtype: int64"
      ]
     },
     "execution_count": 57,
     "metadata": {},
     "output_type": "execute_result"
    }
   ],
   "source": [
    "data5.groupby('location')['location'].agg('count').sort_values(ascending=False)"
   ]
  },
  {
   "cell_type": "code",
   "execution_count": 54,
   "id": "0c21560d",
   "metadata": {},
   "outputs": [
    {
     "data": {
      "application/vnd.microsoft.datawrangler.viewer.v0+json": {
       "columns": [
        {
         "name": "index",
         "rawType": "int64",
         "type": "integer"
        },
        {
         "name": "area_type",
         "rawType": "object",
         "type": "string"
        },
        {
         "name": "availability",
         "rawType": "object",
         "type": "string"
        },
        {
         "name": "location",
         "rawType": "object",
         "type": "string"
        },
        {
         "name": "size",
         "rawType": "float64",
         "type": "float"
        },
        {
         "name": "total_sqft",
         "rawType": "int64",
         "type": "integer"
        },
        {
         "name": "bath",
         "rawType": "float64",
         "type": "float"
        },
        {
         "name": "balcony",
         "rawType": "float64",
         "type": "float"
        },
        {
         "name": "price",
         "rawType": "float64",
         "type": "float"
        }
       ],
       "ref": "dbc92b5d-feb2-4f64-9e7f-886837a87b69",
       "rows": [
        [
         "0",
         "Built-up  Area",
         "Not Yet Ready",
         "1st Block Jayanagar",
         "3.0",
         "1200",
         "2.0",
         "0.0",
         "130.0"
        ],
        [
         "1",
         "Super built-up  Area",
         "Not Yet Ready",
         "1st Block Jayanagar",
         "2.0",
         "1235",
         "2.0",
         "2.0",
         "148.0"
        ],
        [
         "2",
         "Super built-up  Area",
         "Not Yet Ready",
         "1st Block Jayanagar",
         "3.0",
         "1630",
         "3.0",
         "2.0",
         "194.0"
        ],
        [
         "3",
         "Super built-up  Area",
         "Ready To Move",
         "1st Block Jayanagar",
         "3.0",
         "1875",
         "2.0",
         "3.0",
         "235.0"
        ],
        [
         "4",
         "Super built-up  Area",
         "Not Yet Ready",
         "1st Block Jayanagar",
         "4.0",
         "2450",
         "4.0",
         "2.0",
         "368.0"
        ]
       ],
       "shape": {
        "columns": 8,
        "rows": 5
       }
      },
      "text/html": [
       "<div>\n",
       "<style scoped>\n",
       "    .dataframe tbody tr th:only-of-type {\n",
       "        vertical-align: middle;\n",
       "    }\n",
       "\n",
       "    .dataframe tbody tr th {\n",
       "        vertical-align: top;\n",
       "    }\n",
       "\n",
       "    .dataframe thead th {\n",
       "        text-align: right;\n",
       "    }\n",
       "</style>\n",
       "<table border=\"1\" class=\"dataframe\">\n",
       "  <thead>\n",
       "    <tr style=\"text-align: right;\">\n",
       "      <th></th>\n",
       "      <th>area_type</th>\n",
       "      <th>availability</th>\n",
       "      <th>location</th>\n",
       "      <th>size</th>\n",
       "      <th>total_sqft</th>\n",
       "      <th>bath</th>\n",
       "      <th>balcony</th>\n",
       "      <th>price</th>\n",
       "    </tr>\n",
       "  </thead>\n",
       "  <tbody>\n",
       "    <tr>\n",
       "      <th>0</th>\n",
       "      <td>Built-up  Area</td>\n",
       "      <td>Not Yet Ready</td>\n",
       "      <td>1st Block Jayanagar</td>\n",
       "      <td>3.0</td>\n",
       "      <td>1200</td>\n",
       "      <td>2.0</td>\n",
       "      <td>0.0</td>\n",
       "      <td>130.0</td>\n",
       "    </tr>\n",
       "    <tr>\n",
       "      <th>1</th>\n",
       "      <td>Super built-up  Area</td>\n",
       "      <td>Not Yet Ready</td>\n",
       "      <td>1st Block Jayanagar</td>\n",
       "      <td>2.0</td>\n",
       "      <td>1235</td>\n",
       "      <td>2.0</td>\n",
       "      <td>2.0</td>\n",
       "      <td>148.0</td>\n",
       "    </tr>\n",
       "    <tr>\n",
       "      <th>2</th>\n",
       "      <td>Super built-up  Area</td>\n",
       "      <td>Not Yet Ready</td>\n",
       "      <td>1st Block Jayanagar</td>\n",
       "      <td>3.0</td>\n",
       "      <td>1630</td>\n",
       "      <td>3.0</td>\n",
       "      <td>2.0</td>\n",
       "      <td>194.0</td>\n",
       "    </tr>\n",
       "    <tr>\n",
       "      <th>3</th>\n",
       "      <td>Super built-up  Area</td>\n",
       "      <td>Ready To Move</td>\n",
       "      <td>1st Block Jayanagar</td>\n",
       "      <td>3.0</td>\n",
       "      <td>1875</td>\n",
       "      <td>2.0</td>\n",
       "      <td>3.0</td>\n",
       "      <td>235.0</td>\n",
       "    </tr>\n",
       "    <tr>\n",
       "      <th>4</th>\n",
       "      <td>Super built-up  Area</td>\n",
       "      <td>Not Yet Ready</td>\n",
       "      <td>1st Block Jayanagar</td>\n",
       "      <td>4.0</td>\n",
       "      <td>2450</td>\n",
       "      <td>4.0</td>\n",
       "      <td>2.0</td>\n",
       "      <td>368.0</td>\n",
       "    </tr>\n",
       "  </tbody>\n",
       "</table>\n",
       "</div>"
      ],
      "text/plain": [
       "              area_type   availability             location  size  total_sqft  \\\n",
       "0        Built-up  Area  Not Yet Ready  1st Block Jayanagar   3.0        1200   \n",
       "1  Super built-up  Area  Not Yet Ready  1st Block Jayanagar   2.0        1235   \n",
       "2  Super built-up  Area  Not Yet Ready  1st Block Jayanagar   3.0        1630   \n",
       "3  Super built-up  Area  Ready To Move  1st Block Jayanagar   3.0        1875   \n",
       "4  Super built-up  Area  Not Yet Ready  1st Block Jayanagar   4.0        2450   \n",
       "\n",
       "   bath  balcony  price  \n",
       "0   2.0      0.0  130.0  \n",
       "1   2.0      2.0  148.0  \n",
       "2   3.0      2.0  194.0  \n",
       "3   2.0      3.0  235.0  \n",
       "4   4.0      2.0  368.0  "
      ]
     },
     "execution_count": 54,
     "metadata": {},
     "output_type": "execute_result"
    }
   ],
   "source": [
    "data6 = data5.drop('price_per_sqft', axis=1)\n",
    "data6.head(5)"
   ]
  },
  {
   "cell_type": "code",
   "execution_count": 65,
   "id": "483f5dcf",
   "metadata": {},
   "outputs": [
    {
     "ename": "KeyError",
     "evalue": "\"None of [Index(['area_type', 'availability', 'location'], dtype='object')] are in the [columns]\"",
     "output_type": "error",
     "traceback": [
      "\u001b[1;31m---------------------------------------------------------------------------\u001b[0m",
      "\u001b[1;31mKeyError\u001b[0m                                  Traceback (most recent call last)",
      "Cell \u001b[1;32mIn[65], line 1\u001b[0m\n\u001b[1;32m----> 1\u001b[0m data6 \u001b[38;5;241m=\u001b[39m \u001b[43mpd\u001b[49m\u001b[38;5;241;43m.\u001b[39;49m\u001b[43mget_dummies\u001b[49m\u001b[43m(\u001b[49m\u001b[43mdata6\u001b[49m\u001b[43m,\u001b[49m\u001b[43m \u001b[49m\u001b[43mcolumns\u001b[49m\u001b[38;5;241;43m=\u001b[39;49m\u001b[43m[\u001b[49m\u001b[38;5;124;43m'\u001b[39;49m\u001b[38;5;124;43marea_type\u001b[39;49m\u001b[38;5;124;43m'\u001b[39;49m\u001b[43m,\u001b[49m\u001b[43m \u001b[49m\u001b[38;5;124;43m'\u001b[39;49m\u001b[38;5;124;43mavailability\u001b[39;49m\u001b[38;5;124;43m'\u001b[39;49m\u001b[43m,\u001b[49m\u001b[43m \u001b[49m\u001b[38;5;124;43m'\u001b[39;49m\u001b[38;5;124;43mlocation\u001b[39;49m\u001b[38;5;124;43m'\u001b[39;49m\u001b[43m]\u001b[49m\u001b[43m,\u001b[49m\u001b[43m \u001b[49m\u001b[43mdrop_first\u001b[49m\u001b[38;5;241;43m=\u001b[39;49m\u001b[38;5;28;43;01mFalse\u001b[39;49;00m\u001b[43m)\u001b[49m\u001b[38;5;241m.\u001b[39mastype(\u001b[38;5;28mint\u001b[39m)\n\u001b[0;32m      2\u001b[0m data6\n\u001b[0;32m      3\u001b[0m \u001b[38;5;66;03m# ord = OrdinalEncoder()\u001b[39;00m\n\u001b[0;32m      4\u001b[0m \u001b[38;5;66;03m# data6[['area_type', 'availability', 'location']]  = ord.fit_transform(data6[['area_type', 'availability', 'location']])\u001b[39;00m\n",
      "File \u001b[1;32mc:\\Users\\USER\\AppData\\Local\\Programs\\Python\\Python313\\Lib\\site-packages\\pandas\\core\\reshape\\encoding.py:169\u001b[0m, in \u001b[0;36mget_dummies\u001b[1;34m(data, prefix, prefix_sep, dummy_na, columns, sparse, drop_first, dtype)\u001b[0m\n\u001b[0;32m    167\u001b[0m     \u001b[38;5;28;01mraise\u001b[39;00m \u001b[38;5;167;01mTypeError\u001b[39;00m(\u001b[38;5;124m\"\u001b[39m\u001b[38;5;124mInput must be a list-like for parameter `columns`\u001b[39m\u001b[38;5;124m\"\u001b[39m)\n\u001b[0;32m    168\u001b[0m \u001b[38;5;28;01melse\u001b[39;00m:\n\u001b[1;32m--> 169\u001b[0m     data_to_encode \u001b[38;5;241m=\u001b[39m \u001b[43mdata\u001b[49m\u001b[43m[\u001b[49m\u001b[43mcolumns\u001b[49m\u001b[43m]\u001b[49m\n\u001b[0;32m    171\u001b[0m \u001b[38;5;66;03m# validate prefixes and separator to avoid silently dropping cols\u001b[39;00m\n\u001b[0;32m    172\u001b[0m \u001b[38;5;28;01mdef\u001b[39;00m\u001b[38;5;250m \u001b[39m\u001b[38;5;21mcheck_len\u001b[39m(item, name: \u001b[38;5;28mstr\u001b[39m):\n",
      "File \u001b[1;32mc:\\Users\\USER\\AppData\\Local\\Programs\\Python\\Python313\\Lib\\site-packages\\pandas\\core\\frame.py:4108\u001b[0m, in \u001b[0;36mDataFrame.__getitem__\u001b[1;34m(self, key)\u001b[0m\n\u001b[0;32m   4106\u001b[0m     \u001b[38;5;28;01mif\u001b[39;00m is_iterator(key):\n\u001b[0;32m   4107\u001b[0m         key \u001b[38;5;241m=\u001b[39m \u001b[38;5;28mlist\u001b[39m(key)\n\u001b[1;32m-> 4108\u001b[0m     indexer \u001b[38;5;241m=\u001b[39m \u001b[38;5;28;43mself\u001b[39;49m\u001b[38;5;241;43m.\u001b[39;49m\u001b[43mcolumns\u001b[49m\u001b[38;5;241;43m.\u001b[39;49m\u001b[43m_get_indexer_strict\u001b[49m\u001b[43m(\u001b[49m\u001b[43mkey\u001b[49m\u001b[43m,\u001b[49m\u001b[43m \u001b[49m\u001b[38;5;124;43m\"\u001b[39;49m\u001b[38;5;124;43mcolumns\u001b[39;49m\u001b[38;5;124;43m\"\u001b[39;49m\u001b[43m)\u001b[49m[\u001b[38;5;241m1\u001b[39m]\n\u001b[0;32m   4110\u001b[0m \u001b[38;5;66;03m# take() does not accept boolean indexers\u001b[39;00m\n\u001b[0;32m   4111\u001b[0m \u001b[38;5;28;01mif\u001b[39;00m \u001b[38;5;28mgetattr\u001b[39m(indexer, \u001b[38;5;124m\"\u001b[39m\u001b[38;5;124mdtype\u001b[39m\u001b[38;5;124m\"\u001b[39m, \u001b[38;5;28;01mNone\u001b[39;00m) \u001b[38;5;241m==\u001b[39m \u001b[38;5;28mbool\u001b[39m:\n",
      "File \u001b[1;32mc:\\Users\\USER\\AppData\\Local\\Programs\\Python\\Python313\\Lib\\site-packages\\pandas\\core\\indexes\\base.py:6200\u001b[0m, in \u001b[0;36mIndex._get_indexer_strict\u001b[1;34m(self, key, axis_name)\u001b[0m\n\u001b[0;32m   6197\u001b[0m \u001b[38;5;28;01melse\u001b[39;00m:\n\u001b[0;32m   6198\u001b[0m     keyarr, indexer, new_indexer \u001b[38;5;241m=\u001b[39m \u001b[38;5;28mself\u001b[39m\u001b[38;5;241m.\u001b[39m_reindex_non_unique(keyarr)\n\u001b[1;32m-> 6200\u001b[0m \u001b[38;5;28;43mself\u001b[39;49m\u001b[38;5;241;43m.\u001b[39;49m\u001b[43m_raise_if_missing\u001b[49m\u001b[43m(\u001b[49m\u001b[43mkeyarr\u001b[49m\u001b[43m,\u001b[49m\u001b[43m \u001b[49m\u001b[43mindexer\u001b[49m\u001b[43m,\u001b[49m\u001b[43m \u001b[49m\u001b[43maxis_name\u001b[49m\u001b[43m)\u001b[49m\n\u001b[0;32m   6202\u001b[0m keyarr \u001b[38;5;241m=\u001b[39m \u001b[38;5;28mself\u001b[39m\u001b[38;5;241m.\u001b[39mtake(indexer)\n\u001b[0;32m   6203\u001b[0m \u001b[38;5;28;01mif\u001b[39;00m \u001b[38;5;28misinstance\u001b[39m(key, Index):\n\u001b[0;32m   6204\u001b[0m     \u001b[38;5;66;03m# GH 42790 - Preserve name from an Index\u001b[39;00m\n",
      "File \u001b[1;32mc:\\Users\\USER\\AppData\\Local\\Programs\\Python\\Python313\\Lib\\site-packages\\pandas\\core\\indexes\\base.py:6249\u001b[0m, in \u001b[0;36mIndex._raise_if_missing\u001b[1;34m(self, key, indexer, axis_name)\u001b[0m\n\u001b[0;32m   6247\u001b[0m \u001b[38;5;28;01mif\u001b[39;00m nmissing:\n\u001b[0;32m   6248\u001b[0m     \u001b[38;5;28;01mif\u001b[39;00m nmissing \u001b[38;5;241m==\u001b[39m \u001b[38;5;28mlen\u001b[39m(indexer):\n\u001b[1;32m-> 6249\u001b[0m         \u001b[38;5;28;01mraise\u001b[39;00m \u001b[38;5;167;01mKeyError\u001b[39;00m(\u001b[38;5;124mf\u001b[39m\u001b[38;5;124m\"\u001b[39m\u001b[38;5;124mNone of [\u001b[39m\u001b[38;5;132;01m{\u001b[39;00mkey\u001b[38;5;132;01m}\u001b[39;00m\u001b[38;5;124m] are in the [\u001b[39m\u001b[38;5;132;01m{\u001b[39;00maxis_name\u001b[38;5;132;01m}\u001b[39;00m\u001b[38;5;124m]\u001b[39m\u001b[38;5;124m\"\u001b[39m)\n\u001b[0;32m   6251\u001b[0m     not_found \u001b[38;5;241m=\u001b[39m \u001b[38;5;28mlist\u001b[39m(ensure_index(key)[missing_mask\u001b[38;5;241m.\u001b[39mnonzero()[\u001b[38;5;241m0\u001b[39m]]\u001b[38;5;241m.\u001b[39munique())\n\u001b[0;32m   6252\u001b[0m     \u001b[38;5;28;01mraise\u001b[39;00m \u001b[38;5;167;01mKeyError\u001b[39;00m(\u001b[38;5;124mf\u001b[39m\u001b[38;5;124m\"\u001b[39m\u001b[38;5;132;01m{\u001b[39;00mnot_found\u001b[38;5;132;01m}\u001b[39;00m\u001b[38;5;124m not in index\u001b[39m\u001b[38;5;124m\"\u001b[39m)\n",
      "\u001b[1;31mKeyError\u001b[0m: \"None of [Index(['area_type', 'availability', 'location'], dtype='object')] are in the [columns]\""
     ]
    }
   ],
   "source": [
    "data6 = pd.get_dummies(data6, columns=['area_type', 'availability', 'location'], drop_first=False).astype(int)\n",
    "data6\n",
    "# ord = OrdinalEncoder()\n",
    "# data6[['area_type', 'availability', 'location']]  = ord.fit_transform(data6[['area_type', 'availability', 'location']])"
   ]
  },
  {
   "cell_type": "code",
   "execution_count": null,
   "id": "e18ead63",
   "metadata": {},
   "outputs": [],
   "source": [
    "import matplotlib.pyplot as plt\n",
    "import seaborn as sns\n",
    "import scipy.stats as stats"
   ]
  },
  {
   "cell_type": "code",
   "execution_count": 66,
   "id": "7c15f17e",
   "metadata": {},
   "outputs": [
    {
     "data": {
      "image/png": "[encoded data removed]",
      "text/plain": [
       "<Figure size 1500x1300 with 4 Axes>"
      ]
     },
     "metadata": {},
     "output_type": "display_data"
    }
   ],
   "source": [
    "sns.set_style('darkgrid')\n",
    "plt.figure(figsize=(15,13))\n",
    "plt.subplot(3,2,1)\n",
    "plt.hist(np.log(data6.price), color=\"#15552de7\", bins=30, align='mid')\n",
    "plt.subplot(3,2,2)\n",
    "stats.probplot(np.log(data6.price), dist='norm', plot=plt)\n",
    "plt.subplot(3,2,3)\n",
    "plt.hist(np.log(data6.total_sqft), color=\"#15552de7\", bins=50, align='mid')\n",
    "plt.subplot(3,2,4)\n",
    "stats.probplot(np.log(data6.total_sqft), dist='norm', plot=plt)\n",
    "plt.tight_layout()\n",
    "plt.show()"
   ]
  },
  {
   "cell_type": "code",
   "execution_count": 67,
   "id": "0676bfa1",
   "metadata": {},
   "outputs": [],
   "source": [
    "data6['_price'] = np.log(data6.price)\n",
    "data6['_total'] = np.log(data6.total_sqft)"
   ]
  },
  {
   "cell_type": "code",
   "execution_count": 68,
   "id": "55007fb5",
   "metadata": {},
   "outputs": [],
   "source": [
    "data6['z_score_1'] = (data6._price - data6['_price'].mean())/data6['_price'].std()\n",
    "data6['z_score_2'] = (data6._total - data6['_total'].mean())/data6['_total'].std()"
   ]
  },
  {
   "cell_type": "code",
   "execution_count": 69,
   "id": "d77975e0",
   "metadata": {},
   "outputs": [],
   "source": [
    "df_outliers0 = data6[(data6['z_score_1']<3)&(data6['z_score_1']>-3)]\n",
    "df_outliers2  = df_outliers0[(df_outliers0['z_score_2']<3)&(df_outliers0['z_score_2']>-3)]\n",
    "df_outliers2.drop(['z_score_1', 'z_score_2', 'total_sqft', 'price'], axis=1, inplace=True)"
   ]
  },
  {
   "cell_type": "code",
   "execution_count": 71,
   "id": "3917cbff",
   "metadata": {},
   "outputs": [],
   "source": [
    "X = df_outliers2.drop(\"_price\", axis=1)\n",
    "y = df_outliers2[\"_price\"]"
   ]
  },
  {
   "cell_type": "code",
   "execution_count": 72,
   "id": "0aae68db",
   "metadata": {},
   "outputs": [],
   "source": [
    "# X.drop(['availability', 'bath', 'balcony'], axis=1, inplace=True)"
   ]
  },
  {
   "cell_type": "code",
   "execution_count": 73,
   "id": "29bc9b44",
   "metadata": {},
   "outputs": [],
   "source": [
    "scl = StandardScaler()\n",
    "X = scl.fit_transform(X)\n",
    "X_train, X_test, y_train, y_test = train_test_split(X, y, test_size=0.2, random_state=42)"
   ]
  },
  {
   "cell_type": "code",
   "execution_count": 97,
   "id": "4b38b7e4",
   "metadata": {},
   "outputs": [],
   "source": [
    "try:\n",
    "    model = XGBRegressor(n_estimators=200, learning_rate=0.2, max_depth=5, subsample=0.8, colsample_bytree=0.8, reg_lambda=1, reg_alpha=1, random_state=42)\n",
    "    model.fit(X_train,y_train)\n",
    "    y_pred = model.predict(X_test)\n",
    "except Exception as e:\n",
    "    print(e)"
   ]
  },
  {
   "cell_type": "code",
   "execution_count": 96,
   "id": "33e9eb85",
   "metadata": {},
   "outputs": [
    {
     "name": "stdout",
     "output_type": "stream",
     "text": [
      "Training Data Score:89.80%\n",
      "Testting Data Score:86.08%\n",
      "Available Error:0.05%\n",
      "Performance Score:84.21%\n"
     ]
    }
   ],
   "source": [
    "from sklearn.metrics import r2_score\n",
    "try:\n",
    "    print(f\"Training Data Score:{model.score(X_train,y_train)*100:.2f}%\")\n",
    "    print(f\"Testting Data Score:{model.score(X_test,y_test)*100:.2f}%\")\n",
    "    print(f\"Available Error:{mean_squared_error(y_pred, y_test):.2f}%\")\n",
    "    print(f\"Performance Score:{r2_score(y_pred,y_test)*100:.2f}%\")\n",
    "except Exception as e:\n",
    "    print(e)"
   ]
  },
  {
   "cell_type": "code",
   "execution_count": 98,
   "id": "511cebfe",
   "metadata": {},
   "outputs": [
    {
     "data": {
      "text/html": [
       "<style>#sk-container-id-3 {\n",
       "  /* Definition of color scheme common for light and dark mode */\n",
       "  --sklearn-color-text: #000;\n",
       "  --sklearn-color-text-muted: #666;\n",
       "  --sklearn-color-line: gray;\n",
       "  /* Definition of color scheme for unfitted estimators */\n",
       "  --sklearn-color-unfitted-level-0: #fff5e6;\n",
       "  --sklearn-color-unfitted-level-1: #f6e4d2;\n",
       "  --sklearn-color-unfitted-level-2: #ffe0b3;\n",
       "  --sklearn-color-unfitted-level-3: chocolate;\n",
       "  /* Definition of color scheme for fitted estimators */\n",
       "  --sklearn-color-fitted-level-0: #f0f8ff;\n",
       "  --sklearn-color-fitted-level-1: #d4ebff;\n",
       "  --sklearn-color-fitted-level-2: #b3dbfd;\n",
       "  --sklearn-color-fitted-level-3: cornflowerblue;\n",
       "\n",
       "  /* Specific color for light theme */\n",
       "  --sklearn-color-text-on-default-background: var(--sg-text-color, var(--theme-code-foreground, var(--jp-content-font-color1, black)));\n",
       "  --sklearn-color-background: var(--sg-background-color, var(--theme-background, var(--jp-layout-color0, white)));\n",
       "  --sklearn-color-border-box: var(--sg-text-color, var(--theme-code-foreground, var(--jp-content-font-color1, black)));\n",
       "  --sklearn-color-icon: #696969;\n",
       "\n",
       "  @media (prefers-color-scheme: dark) {\n",
       "    /* Redefinition of color scheme for dark theme */\n",
       "    --sklearn-color-text-on-default-background: var(--sg-text-color, var(--theme-code-foreground, var(--jp-content-font-color1, white)));\n",
       "    --sklearn-color-background: var(--sg-background-color, var(--theme-background, var(--jp-layout-color0, #111)));\n",
       "    --sklearn-color-border-box: var(--sg-text-color, var(--theme-code-foreground, var(--jp-content-font-color1, white)));\n",
       "    --sklearn-color-icon: #878787;\n",
       "  }\n",
       "}\n",
       "\n",
       "#sk-container-id-3 {\n",
       "  color: var(--sklearn-color-text);\n",
       "}\n",
       "\n",
       "#sk-container-id-3 pre {\n",
       "  padding: 0;\n",
       "}\n",
       "\n",
       "#sk-container-id-3 input.sk-hidden--visually {\n",
       "  border: 0;\n",
       "  clip: rect(1px 1px 1px 1px);\n",
       "  clip: rect(1px, 1px, 1px, 1px);\n",
       "  height: 1px;\n",
       "  margin: -1px;\n",
       "  overflow: hidden;\n",
       "  padding: 0;\n",
       "  position: absolute;\n",
       "  width: 1px;\n",
       "}\n",
       "\n",
       "#sk-container-id-3 div.sk-dashed-wrapped {\n",
       "  border: 1px dashed var(--sklearn-color-line);\n",
       "  margin: 0 0.4em 0.5em 0.4em;\n",
       "  box-sizing: border-box;\n",
       "  padding-bottom: 0.4em;\n",
       "  background-color: var(--sklearn-color-background);\n",
       "}\n",
       "\n",
       "#sk-container-id-3 div.sk-container {\n",
       "  /* jupyter's `normalize.less` sets `[hidden] { display: none; }`\n",
       "     but bootstrap.min.css set `[hidden] { display: none !important; }`\n",
       "     so we also need the `!important` here to be able to override the\n",
       "     default hidden behavior on the sphinx rendered scikit-learn.org.\n",
       "     See: https://github.com/scikit-learn/scikit-learn/issues/21755 */\n",
       "  display: inline-block !important;\n",
       "  position: relative;\n",
       "}\n",
       "\n",
       "#sk-container-id-3 div.sk-text-repr-fallback {\n",
       "  display: none;\n",
       "}\n",
       "\n",
       "div.sk-parallel-item,\n",
       "div.sk-serial,\n",
       "div.sk-item {\n",
       "  /* draw centered vertical line to link estimators */\n",
       "  background-image: linear-gradient(var(--sklearn-color-text-on-default-background), var(--sklearn-color-text-on-default-background));\n",
       "  background-size: 2px 100%;\n",
       "  background-repeat: no-repeat;\n",
       "  background-position: center center;\n",
       "}\n",
       "\n",
       "/* Parallel-specific style estimator block */\n",
       "\n",
       "#sk-container-id-3 div.sk-parallel-item::after {\n",
       "  content: \"\";\n",
       "  width: 100%;\n",
       "  border-bottom: 2px solid var(--sklearn-color-text-on-default-background);\n",
       "  flex-grow: 1;\n",
       "}\n",
       "\n",
       "#sk-container-id-3 div.sk-parallel {\n",
       "  display: flex;\n",
       "  align-items: stretch;\n",
       "  justify-content: center;\n",
       "  background-color: var(--sklearn-color-background);\n",
       "  position: relative;\n",
       "}\n",
       "\n",
       "#sk-container-id-3 div.sk-parallel-item {\n",
       "  display: flex;\n",
       "  flex-direction: column;\n",
       "}\n",
       "\n",
       "#sk-container-id-3 div.sk-parallel-item:first-child::after {\n",
       "  align-self: flex-end;\n",
       "  width: 50%;\n",
       "}\n",
       "\n",
       "#sk-container-id-3 div.sk-parallel-item:last-child::after {\n",
       "  align-self: flex-start;\n",
       "  width: 50%;\n",
       "}\n",
       "\n",
       "#sk-container-id-3 div.sk-parallel-item:only-child::after {\n",
       "  width: 0;\n",
       "}\n",
       "\n",
       "/* Serial-specific style estimator block */\n",
       "\n",
       "#sk-container-id-3 div.sk-serial {\n",
       "  display: flex;\n",
       "  flex-direction: column;\n",
       "  align-items: center;\n",
       "  background-color: var(--sklearn-color-background);\n",
       "  padding-right: 1em;\n",
       "  padding-left: 1em;\n",
       "}\n",
       "\n",
       "\n",
       "/* Toggleable style: style used for estimator/Pipeline/ColumnTransformer box that is\n",
       "clickable and can be expanded/collapsed.\n",
       "- Pipeline and ColumnTransformer use this feature and define the default style\n",
       "- Estimators will overwrite some part of the style using the `sk-estimator` class\n",
       "*/\n",
       "\n",
       "/* Pipeline and ColumnTransformer style (default) */\n",
       "\n",
       "#sk-container-id-3 div.sk-toggleable {\n",
       "  /* Default theme specific background. It is overwritten whether we have a\n",
       "  specific estimator or a Pipeline/ColumnTransformer */\n",
       "  background-color: var(--sklearn-color-background);\n",
       "}\n",
       "\n",
       "/* Toggleable label */\n",
       "#sk-container-id-3 label.sk-toggleable__label {\n",
       "  cursor: pointer;\n",
       "  display: flex;\n",
       "  width: 100%;\n",
       "  margin-bottom: 0;\n",
       "  padding: 0.5em;\n",
       "  box-sizing: border-box;\n",
       "  text-align: center;\n",
       "  align-items: start;\n",
       "  justify-content: space-between;\n",
       "  gap: 0.5em;\n",
       "}\n",
       "\n",
       "#sk-container-id-3 label.sk-toggleable__label .caption {\n",
       "  font-size: 0.6rem;\n",
       "  font-weight: lighter;\n",
       "  color: var(--sklearn-color-text-muted);\n",
       "}\n",
       "\n",
       "#sk-container-id-3 label.sk-toggleable__label-arrow:before {\n",
       "  /* Arrow on the left of the label */\n",
       "  content: \"▸\";\n",
       "  float: left;\n",
       "  margin-right: 0.25em;\n",
       "  color: var(--sklearn-color-icon);\n",
       "}\n",
       "\n",
       "#sk-container-id-3 label.sk-toggleable__label-arrow:hover:before {\n",
       "  color: var(--sklearn-color-text);\n",
       "}\n",
       "\n",
       "/* Toggleable content - dropdown */\n",
       "\n",
       "#sk-container-id-3 div.sk-toggleable__content {\n",
       "  max-height: 0;\n",
       "  max-width: 0;\n",
       "  overflow: hidden;\n",
       "  text-align: left;\n",
       "  /* unfitted */\n",
       "  background-color: var(--sklearn-color-unfitted-level-0);\n",
       "}\n",
       "\n",
       "#sk-container-id-3 div.sk-toggleable__content.fitted {\n",
       "  /* fitted */\n",
       "  background-color: var(--sklearn-color-fitted-level-0);\n",
       "}\n",
       "\n",
       "#sk-container-id-3 div.sk-toggleable__content pre {\n",
       "  margin: 0.2em;\n",
       "  border-radius: 0.25em;\n",
       "  color: var(--sklearn-color-text);\n",
       "  /* unfitted */\n",
       "  background-color: var(--sklearn-color-unfitted-level-0);\n",
       "}\n",
       "\n",
       "#sk-container-id-3 div.sk-toggleable__content.fitted pre {\n",
       "  /* unfitted */\n",
       "  background-color: var(--sklearn-color-fitted-level-0);\n",
       "}\n",
       "\n",
       "#sk-container-id-3 input.sk-toggleable__control:checked~div.sk-toggleable__content {\n",
       "  /* Expand drop-down */\n",
       "  max-height: 200px;\n",
       "  max-width: 100%;\n",
       "  overflow: auto;\n",
       "}\n",
       "\n",
       "#sk-container-id-3 input.sk-toggleable__control:checked~label.sk-toggleable__label-arrow:before {\n",
       "  content: \"▾\";\n",
       "}\n",
       "\n",
       "/* Pipeline/ColumnTransformer-specific style */\n",
       "\n",
       "#sk-container-id-3 div.sk-label input.sk-toggleable__control:checked~label.sk-toggleable__label {\n",
       "  color: var(--sklearn-color-text);\n",
       "  background-color: var(--sklearn-color-unfitted-level-2);\n",
       "}\n",
       "\n",
       "#sk-container-id-3 div.sk-label.fitted input.sk-toggleable__control:checked~label.sk-toggleable__label {\n",
       "  background-color: var(--sklearn-color-fitted-level-2);\n",
       "}\n",
       "\n",
       "/* Estimator-specific style */\n",
       "\n",
       "/* Colorize estimator box */\n",
       "#sk-container-id-3 div.sk-estimator input.sk-toggleable__control:checked~label.sk-toggleable__label {\n",
       "  /* unfitted */\n",
       "  background-color: var(--sklearn-color-unfitted-level-2);\n",
       "}\n",
       "\n",
       "#sk-container-id-3 div.sk-estimator.fitted input.sk-toggleable__control:checked~label.sk-toggleable__label {\n",
       "  /* fitted */\n",
       "  background-color: var(--sklearn-color-fitted-level-2);\n",
       "}\n",
       "\n",
       "#sk-container-id-3 div.sk-label label.sk-toggleable__label,\n",
       "#sk-container-id-3 div.sk-label label {\n",
       "  /* The background is the default theme color */\n",
       "  color: var(--sklearn-color-text-on-default-background);\n",
       "}\n",
       "\n",
       "/* On hover, darken the color of the background */\n",
       "#sk-container-id-3 div.sk-label:hover label.sk-toggleable__label {\n",
       "  color: var(--sklearn-color-text);\n",
       "  background-color: var(--sklearn-color-unfitted-level-2);\n",
       "}\n",
       "\n",
       "/* Label box, darken color on hover, fitted */\n",
       "#sk-container-id-3 div.sk-label.fitted:hover label.sk-toggleable__label.fitted {\n",
       "  color: var(--sklearn-color-text);\n",
       "  background-color: var(--sklearn-color-fitted-level-2);\n",
       "}\n",
       "\n",
       "/* Estimator label */\n",
       "\n",
       "#sk-container-id-3 div.sk-label label {\n",
       "  font-family: monospace;\n",
       "  font-weight: bold;\n",
       "  display: inline-block;\n",
       "  line-height: 1.2em;\n",
       "}\n",
       "\n",
       "#sk-container-id-3 div.sk-label-container {\n",
       "  text-align: center;\n",
       "}\n",
       "\n",
       "/* Estimator-specific */\n",
       "#sk-container-id-3 div.sk-estimator {\n",
       "  font-family: monospace;\n",
       "  border: 1px dotted var(--sklearn-color-border-box);\n",
       "  border-radius: 0.25em;\n",
       "  box-sizing: border-box;\n",
       "  margin-bottom: 0.5em;\n",
       "  /* unfitted */\n",
       "  background-color: var(--sklearn-color-unfitted-level-0);\n",
       "}\n",
       "\n",
       "#sk-container-id-3 div.sk-estimator.fitted {\n",
       "  /* fitted */\n",
       "  background-color: var(--sklearn-color-fitted-level-0);\n",
       "}\n",
       "\n",
       "/* on hover */\n",
       "#sk-container-id-3 div.sk-estimator:hover {\n",
       "  /* unfitted */\n",
       "  background-color: var(--sklearn-color-unfitted-level-2);\n",
       "}\n",
       "\n",
       "#sk-container-id-3 div.sk-estimator.fitted:hover {\n",
       "  /* fitted */\n",
       "  background-color: var(--sklearn-color-fitted-level-2);\n",
       "}\n",
       "\n",
       "/* Specification for estimator info (e.g. \"i\" and \"?\") */\n",
       "\n",
       "/* Common style for \"i\" and \"?\" */\n",
       "\n",
       ".sk-estimator-doc-link,\n",
       "a:link.sk-estimator-doc-link,\n",
       "a:visited.sk-estimator-doc-link {\n",
       "  float: right;\n",
       "  font-size: smaller;\n",
       "  line-height: 1em;\n",
       "  font-family: monospace;\n",
       "  background-color: var(--sklearn-color-background);\n",
       "  border-radius: 1em;\n",
       "  height: 1em;\n",
       "  width: 1em;\n",
       "  text-decoration: none !important;\n",
       "  margin-left: 0.5em;\n",
       "  text-align: center;\n",
       "  /* unfitted */\n",
       "  border: var(--sklearn-color-unfitted-level-1) 1pt solid;\n",
       "  color: var(--sklearn-color-unfitted-level-1);\n",
       "}\n",
       "\n",
       ".sk-estimator-doc-link.fitted,\n",
       "a:link.sk-estimator-doc-link.fitted,\n",
       "a:visited.sk-estimator-doc-link.fitted {\n",
       "  /* fitted */\n",
       "  border: var(--sklearn-color-fitted-level-1) 1pt solid;\n",
       "  color: var(--sklearn-color-fitted-level-1);\n",
       "}\n",
       "\n",
       "/* On hover */\n",
       "div.sk-estimator:hover .sk-estimator-doc-link:hover,\n",
       ".sk-estimator-doc-link:hover,\n",
       "div.sk-label-container:hover .sk-estimator-doc-link:hover,\n",
       ".sk-estimator-doc-link:hover {\n",
       "  /* unfitted */\n",
       "  background-color: var(--sklearn-color-unfitted-level-3);\n",
       "  color: var(--sklearn-color-background);\n",
       "  text-decoration: none;\n",
       "}\n",
       "\n",
       "div.sk-estimator.fitted:hover .sk-estimator-doc-link.fitted:hover,\n",
       ".sk-estimator-doc-link.fitted:hover,\n",
       "div.sk-label-container:hover .sk-estimator-doc-link.fitted:hover,\n",
       ".sk-estimator-doc-link.fitted:hover {\n",
       "  /* fitted */\n",
       "  background-color: var(--sklearn-color-fitted-level-3);\n",
       "  color: var(--sklearn-color-background);\n",
       "  text-decoration: none;\n",
       "}\n",
       "\n",
       "/* Span, style for the box shown on hovering the info icon */\n",
       ".sk-estimator-doc-link span {\n",
       "  display: none;\n",
       "  z-index: 9999;\n",
       "  position: relative;\n",
       "  font-weight: normal;\n",
       "  right: .2ex;\n",
       "  padding: .5ex;\n",
       "  margin: .5ex;\n",
       "  width: min-content;\n",
       "  min-width: 20ex;\n",
       "  max-width: 50ex;\n",
       "  color: var(--sklearn-color-text);\n",
       "  box-shadow: 2pt 2pt 4pt #999;\n",
       "  /* unfitted */\n",
       "  background: var(--sklearn-color-unfitted-level-0);\n",
       "  border: .5pt solid var(--sklearn-color-unfitted-level-3);\n",
       "}\n",
       "\n",
       ".sk-estimator-doc-link.fitted span {\n",
       "  /* fitted */\n",
       "  background: var(--sklearn-color-fitted-level-0);\n",
       "  border: var(--sklearn-color-fitted-level-3);\n",
       "}\n",
       "\n",
       ".sk-estimator-doc-link:hover span {\n",
       "  display: block;\n",
       "}\n",
       "\n",
       "/* \"?\"-specific style due to the `<a>` HTML tag */\n",
       "\n",
       "#sk-container-id-3 a.estimator_doc_link {\n",
       "  float: right;\n",
       "  font-size: 1rem;\n",
       "  line-height: 1em;\n",
       "  font-family: monospace;\n",
       "  background-color: var(--sklearn-color-background);\n",
       "  border-radius: 1rem;\n",
       "  height: 1rem;\n",
       "  width: 1rem;\n",
       "  text-decoration: none;\n",
       "  /* unfitted */\n",
       "  color: var(--sklearn-color-unfitted-level-1);\n",
       "  border: var(--sklearn-color-unfitted-level-1) 1pt solid;\n",
       "}\n",
       "\n",
       "#sk-container-id-3 a.estimator_doc_link.fitted {\n",
       "  /* fitted */\n",
       "  border: var(--sklearn-color-fitted-level-1) 1pt solid;\n",
       "  color: var(--sklearn-color-fitted-level-1);\n",
       "}\n",
       "\n",
       "/* On hover */\n",
       "#sk-container-id-3 a.estimator_doc_link:hover {\n",
       "  /* unfitted */\n",
       "  background-color: var(--sklearn-color-unfitted-level-3);\n",
       "  color: var(--sklearn-color-background);\n",
       "  text-decoration: none;\n",
       "}\n",
       "\n",
       "#sk-container-id-3 a.estimator_doc_link.fitted:hover {\n",
       "  /* fitted */\n",
       "  background-color: var(--sklearn-color-fitted-level-3);\n",
       "}\n",
       "</style><div id=\"sk-container-id-3\" class=\"sk-top-container\"><div class=\"sk-text-repr-fallback\"><pre>BaggingRegressor(estimator=XGBRFRegressor(base_score=None, booster=None,\n",
       "                                          callbacks=None,\n",
       "                                          colsample_bylevel=None,\n",
       "                                          colsample_bytree=None, device=None,\n",
       "                                          early_stopping_rounds=None,\n",
       "                                          enable_categorical=False,\n",
       "                                          eval_metric=None, feature_types=None,\n",
       "                                          feature_weights=None, gamma=None,\n",
       "                                          grow_policy=None,\n",
       "                                          importance_type=None,\n",
       "                                          interaction_constraints=None,\n",
       "                                          max_bin=None, max_cat_threshold=None,\n",
       "                                          max_cat_to_onehot=None,\n",
       "                                          max_delta_step=None, max_depth=None,\n",
       "                                          max_leaves=None,\n",
       "                                          min_child_weight=None, missing=nan,\n",
       "                                          monotone_constraints=None,\n",
       "                                          multi_strategy=None,\n",
       "                                          n_estimators=None, n_jobs=None,\n",
       "                                          num_parallel_tree=None,\n",
       "                                          objective=&#x27;reg:squarederror&#x27;,\n",
       "                                          random_state=None, ...),\n",
       "                 n_estimators=200, oob_score=True, random_state=42)</pre><b>In a Jupyter environment, please rerun this cell to show the HTML representation or trust the notebook. <br />On GitHub, the HTML representation is unable to render, please try loading this page with nbviewer.org.</b></div><div class=\"sk-container\" hidden><div class=\"sk-item sk-dashed-wrapped\"><div class=\"sk-label-container\"><div class=\"sk-label fitted sk-toggleable\"><input class=\"sk-toggleable__control sk-hidden--visually\" id=\"sk-estimator-id-7\" type=\"checkbox\" ><label for=\"sk-estimator-id-7\" class=\"sk-toggleable__label fitted sk-toggleable__label-arrow\"><div><div>BaggingRegressor</div></div><div><a class=\"sk-estimator-doc-link fitted\" rel=\"noreferrer\" target=\"_blank\" href=\"https://scikit-learn.org/1.6/modules/generated/sklearn.ensemble.BaggingRegressor.html\">?<span>Documentation for BaggingRegressor</span></a><span class=\"sk-estimator-doc-link fitted\">i<span>Fitted</span></span></div></label><div class=\"sk-toggleable__content fitted\"><pre>BaggingRegressor(estimator=XGBRFRegressor(base_score=None, booster=None,\n",
       "                                          callbacks=None,\n",
       "                                          colsample_bylevel=None,\n",
       "                                          colsample_bytree=None, device=None,\n",
       "                                          early_stopping_rounds=None,\n",
       "                                          enable_categorical=False,\n",
       "                                          eval_metric=None, feature_types=None,\n",
       "                                          feature_weights=None, gamma=None,\n",
       "                                          grow_policy=None,\n",
       "                                          importance_type=None,\n",
       "                                          interaction_constraints=None,\n",
       "                                          max_bin=None, max_cat_threshold=None,\n",
       "                                          max_cat_to_onehot=None,\n",
       "                                          max_delta_step=None, max_depth=None,\n",
       "                                          max_leaves=None,\n",
       "                                          min_child_weight=None, missing=nan,\n",
       "                                          monotone_constraints=None,\n",
       "                                          multi_strategy=None,\n",
       "                                          n_estimators=None, n_jobs=None,\n",
       "                                          num_parallel_tree=None,\n",
       "                                          objective=&#x27;reg:squarederror&#x27;,\n",
       "                                          random_state=None, ...),\n",
       "                 n_estimators=200, oob_score=True, random_state=42)</pre></div> </div></div><div class=\"sk-parallel\"><div class=\"sk-parallel-item\"><div class=\"sk-item\"><div class=\"sk-label-container\"><div class=\"sk-label fitted sk-toggleable\"><input class=\"sk-toggleable__control sk-hidden--visually\" id=\"sk-estimator-id-8\" type=\"checkbox\" ><label for=\"sk-estimator-id-8\" class=\"sk-toggleable__label fitted sk-toggleable__label-arrow\"><div><div>estimator: XGBRFRegressor</div></div></label><div class=\"sk-toggleable__content fitted\"><pre>XGBRFRegressor(base_score=None, booster=None, callbacks=None,\n",
       "               colsample_bylevel=None, colsample_bytree=None, device=None,\n",
       "               early_stopping_rounds=None, enable_categorical=False,\n",
       "               eval_metric=None, feature_types=None, feature_weights=None,\n",
       "               gamma=None, grow_policy=None, importance_type=None,\n",
       "               interaction_constraints=None, max_bin=None,\n",
       "               max_cat_threshold=None, max_cat_to_onehot=None,\n",
       "               max_delta_step=None, max_depth=None, max_leaves=None,\n",
       "               min_child_weight=None, missing=nan, monotone_constraints=None,\n",
       "               multi_strategy=None, n_estimators=None, n_jobs=None,\n",
       "               num_parallel_tree=None, objective=&#x27;reg:squarederror&#x27;,\n",
       "               random_state=None, ...)</pre></div> </div></div><div class=\"sk-serial\"><div class=\"sk-item\"><div class=\"sk-estimator fitted sk-toggleable\"><input class=\"sk-toggleable__control sk-hidden--visually\" id=\"sk-estimator-id-9\" type=\"checkbox\" ><label for=\"sk-estimator-id-9\" class=\"sk-toggleable__label fitted sk-toggleable__label-arrow\"><div><div>XGBRFRegressor</div></div><div><a class=\"sk-estimator-doc-link fitted\" rel=\"noreferrer\" target=\"_blank\" href=\"https://xgboost.readthedocs.io/en/release_3.0.0/python/python_api.html#xgboost.XGBRFRegressor\">?<span>Documentation for XGBRFRegressor</span></a></div></label><div class=\"sk-toggleable__content fitted\"><pre>XGBRFRegressor(base_score=None, booster=None, callbacks=None,\n",
       "               colsample_bylevel=None, colsample_bytree=None, device=None,\n",
       "               early_stopping_rounds=None, enable_categorical=False,\n",
       "               eval_metric=None, feature_types=None, feature_weights=None,\n",
       "               gamma=None, grow_policy=None, importance_type=None,\n",
       "               interaction_constraints=None, max_bin=None,\n",
       "               max_cat_threshold=None, max_cat_to_onehot=None,\n",
       "               max_delta_step=None, max_depth=None, max_leaves=None,\n",
       "               min_child_weight=None, missing=nan, monotone_constraints=None,\n",
       "               multi_strategy=None, n_estimators=None, n_jobs=None,\n",
       "               num_parallel_tree=None, objective=&#x27;reg:squarederror&#x27;,\n",
       "               random_state=None, ...)</pre></div> </div></div></div></div></div></div></div></div></div>"
      ],
      "text/plain": [
       "BaggingRegressor(estimator=XGBRFRegressor(base_score=None, booster=None,\n",
       "                                          callbacks=None,\n",
       "                                          colsample_bylevel=None,\n",
       "                                          colsample_bytree=None, device=None,\n",
       "                                          early_stopping_rounds=None,\n",
       "                                          enable_categorical=False,\n",
       "                                          eval_metric=None, feature_types=None,\n",
       "                                          feature_weights=None, gamma=None,\n",
       "                                          grow_policy=None,\n",
       "                                          importance_type=None,\n",
       "                                          interaction_constraints=None,\n",
       "                                          max_bin=None, max_cat_threshold=None,\n",
       "                                          max_cat_to_onehot=None,\n",
       "                                          max_delta_step=None, max_depth=None,\n",
       "                                          max_leaves=None,\n",
       "                                          min_child_weight=None, missing=nan,\n",
       "                                          monotone_constraints=None,\n",
       "                                          multi_strategy=None,\n",
       "                                          n_estimators=None, n_jobs=None,\n",
       "                                          num_parallel_tree=None,\n",
       "                                          objective='reg:squarederror',\n",
       "                                          random_state=None, ...),\n",
       "                 n_estimators=200, oob_score=True, random_state=42)"
      ]
     },
     "execution_count": 98,
     "metadata": {},
     "output_type": "execute_result"
    }
   ],
   "source": [
    "from sklearn.ensemble import BaggingRegressor\n",
    "model11 = BaggingRegressor(estimator=XGBRFRegressor(), n_estimators=200, random_state=42, oob_score=True)\n",
    "model11.fit(X_train, y_train)"
   ]
  },
  {
   "cell_type": "code",
   "execution_count": 99,
   "id": "c7532c45",
   "metadata": {},
   "outputs": [
    {
     "data": {
      "text/plain": [
       "0.82191013298534"
      ]
     },
     "execution_count": 99,
     "metadata": {},
     "output_type": "execute_result"
    }
   ],
   "source": [
    "model11.oob_score_"
   ]
  },
  {
   "cell_type": "markdown",
   "id": "11c09a56",
   "metadata": {},
   "source": [
    "<center><h1></h1>ALHAMDULILLAH!!!</center>"
   ]
  }
 ],
 "metadata": {
  "kernelspec": {
   "display_name": "Python 3",
   "language": "python",
   "name": "python3"
  },
  "language_info": {
   "codemirror_mode": {
    "name": "ipython",
    "version": 3
   },
   "file_extension": ".py",
   "mimetype": "text/x-python",
   "name": "python",
   "nbconvert_exporter": "python",
   "pygments_lexer": "ipython3",
   "version": "3.13.1"
  }
 },
 "nbformat": 4,
 "nbformat_minor": 5
}
