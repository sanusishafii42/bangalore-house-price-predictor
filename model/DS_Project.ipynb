{
 "cells": [
  {
   "cell_type": "code",
   "execution_count": 32,
   "id": "80127b49",
   "metadata": {},
   "outputs": [],
   "source": [
    "import pandas as pd\n",
    "import matplotlib.pyplot as plt\n",
    "import numpy as np\n",
    "import json\n",
    "import pickle\n",
    "from sklearn.model_selection import train_test_split"
   ]
  },
  {
   "cell_type": "code",
   "execution_count": 33,
   "id": "2e3e185e",
   "metadata": {},
   "outputs": [],
   "source": [
    "df = pd.read_csv('bhd.csv')"
   ]
  },
  {
   "cell_type": "code",
   "execution_count": 34,
   "id": "41a9c20c",
   "metadata": {},
   "outputs": [],
   "source": [
    "df1 = df.drop(['area_type', 'availability', 'balcony', 'society'], axis=1)\n",
    "\n",
    "df2 = df1.dropna(axis=0).copy()"
   ]
  },
  {
   "cell_type": "code",
   "execution_count": 35,
   "id": "b1680620",
   "metadata": {},
   "outputs": [],
   "source": [
    "def extract_0(x):\n",
    "    return str(x).split(' ')[0]\n",
    "\n",
    "df2['size'] = df2['size'].apply(extract_0).astype(int)\n",
    "# lambda x: int(str(x).split(' ')[0])"
   ]
  },
  {
   "cell_type": "code",
   "execution_count": 36,
   "id": "9a6e55c5",
   "metadata": {},
   "outputs": [
    {
     "data": {
      "application/vnd.microsoft.datawrangler.viewer.v0+json": {
       "columns": [
        {
         "name": "index",
         "rawType": "int64",
         "type": "integer"
        },
        {
         "name": "location",
         "rawType": "object",
         "type": "string"
        },
        {
         "name": "size",
         "rawType": "int64",
         "type": "integer"
        },
        {
         "name": "total_sqft",
         "rawType": "float64",
         "type": "float"
        },
        {
         "name": "bath",
         "rawType": "float64",
         "type": "float"
        },
        {
         "name": "price",
         "rawType": "float64",
         "type": "float"
        }
       ],
       "ref": "887f85fa-12ba-492c-b03c-9807e90ce9d9",
       "rows": [
        [
         "0",
         "Electronic City Phase II",
         "2",
         "1056.0",
         "2.0",
         "39.07"
        ],
        [
         "1",
         "Chikka Tirupathi",
         "4",
         "2600.0",
         "5.0",
         "120.0"
        ],
        [
         "2",
         "Uttarahalli",
         "3",
         "1440.0",
         "2.0",
         "62.0"
        ],
        [
         "3",
         "Lingadheeranahalli",
         "3",
         "1521.0",
         "3.0",
         "95.0"
        ],
        [
         "4",
         "Kothanur",
         "2",
         "1200.0",
         "2.0",
         "51.0"
        ],
        [
         "5",
         "Whitefield",
         "2",
         "1170.0",
         "2.0",
         "38.0"
        ],
        [
         "6",
         "Old Airport Road",
         "4",
         "2732.0",
         "4.0",
         "204.0"
        ],
        [
         "7",
         "Rajaji Nagar",
         "4",
         "3300.0",
         "4.0",
         "600.0"
        ],
        [
         "8",
         "Marathahalli",
         "3",
         "1310.0",
         "3.0",
         "63.25"
        ],
        [
         "9",
         "Gandhi Bazar",
         "6",
         "1020.0",
         "6.0",
         "370.0"
        ],
        [
         "10",
         "Whitefield",
         "3",
         "1800.0",
         "2.0",
         "70.0"
        ],
        [
         "11",
         "Whitefield",
         "4",
         "2785.0",
         "5.0",
         "295.0"
        ],
        [
         "12",
         "7th Phase JP Nagar",
         "2",
         "1000.0",
         "2.0",
         "38.0"
        ],
        [
         "13",
         "Gottigere",
         "2",
         "1100.0",
         "2.0",
         "40.0"
        ],
        [
         "14",
         "Sarjapur",
         "3",
         "2250.0",
         "3.0",
         "148.0"
        ],
        [
         "15",
         "Mysore Road",
         "2",
         "1175.0",
         "2.0",
         "73.5"
        ],
        [
         "16",
         "Bisuvanahalli",
         "3",
         "1180.0",
         "3.0",
         "48.0"
        ],
        [
         "17",
         "Raja Rajeshwari Nagar",
         "3",
         "1540.0",
         "3.0",
         "60.0"
        ],
        [
         "18",
         "Ramakrishnappa Layout",
         "3",
         "2770.0",
         "4.0",
         "290.0"
        ],
        [
         "19",
         "Manayata Tech Park",
         "2",
         "1100.0",
         "2.0",
         "48.0"
        ],
        [
         "20",
         "Kengeri",
         "1",
         "600.0",
         "1.0",
         "15.0"
        ],
        [
         "21",
         "Binny Pete",
         "3",
         "1755.0",
         "3.0",
         "122.0"
        ],
        [
         "22",
         "Thanisandra",
         "4",
         "2800.0",
         "5.0",
         "380.0"
        ],
        [
         "23",
         "Bellandur",
         "3",
         "1767.0",
         "3.0",
         "103.0"
        ],
        [
         "24",
         " Thanisandra",
         "1",
         "510.0",
         "1.0",
         "25.25"
        ],
        [
         "25",
         "Mangammanapalya",
         "3",
         "1250.0",
         "3.0",
         "56.0"
        ],
        [
         "26",
         "Electronic City",
         "2",
         "660.0",
         "1.0",
         "23.1"
        ],
        [
         "27",
         "Whitefield",
         "3",
         "1610.0",
         "3.0",
         "81.0"
        ],
        [
         "28",
         "Ramagondanahalli",
         "2",
         "1151.0",
         "2.0",
         "48.77"
        ],
        [
         "29",
         "Electronic City",
         "3",
         "1025.0",
         "2.0",
         "47.0"
        ],
        [
         "30",
         "Yelahanka",
         "4",
         "2475.0",
         "4.0",
         "186.0"
        ],
        [
         "31",
         "Bisuvanahalli",
         "3",
         "1075.0",
         "2.0",
         "35.0"
        ],
        [
         "32",
         "Hebbal",
         "3",
         "1760.0",
         "2.0",
         "123.0"
        ],
        [
         "33",
         "Raja Rajeshwari Nagar",
         "3",
         "1693.0",
         "3.0",
         "57.39"
        ],
        [
         "34",
         "Kasturi Nagar",
         "3",
         "1925.0",
         "3.0",
         "125.0"
        ],
        [
         "35",
         "Kanakpura Road",
         "2",
         "700.0",
         "2.0",
         "36.0"
        ],
        [
         "36",
         "Electronics City Phase 1",
         "2",
         "1070.0",
         "2.0",
         "45.5"
        ],
        [
         "37",
         "Kundalahalli",
         "3",
         "1724.0",
         "3.0",
         "125.0"
        ],
        [
         "38",
         "Chikkalasandra",
         "3",
         "1290.0",
         "2.0",
         "56.12"
        ],
        [
         "39",
         "Uttarahalli",
         "2",
         "1143.0",
         "2.0",
         "45.0"
        ],
        [
         "40",
         "Murugeshpalya",
         "2",
         "1296.0",
         "2.0",
         "81.0"
        ],
        [
         "41",
         "Sarjapur  Road",
         "3",
         "1254.0",
         "3.0",
         "38.0"
        ],
        [
         "42",
         "Ganga Nagar",
         "1",
         "600.0",
         "1.0",
         "38.0"
        ],
        [
         "43",
         "Yelahanka",
         "1",
         "660.0",
         "1.0",
         "48.0"
        ],
        [
         "44",
         "Kanakpura Road",
         "2",
         "1330.74",
         "2.0",
         "91.79"
        ],
        [
         "45",
         "HSR Layout",
         "8",
         "600.0",
         "9.0",
         "200.0"
        ],
        [
         "46",
         "Doddathoguru",
         "2",
         "970.0",
         "2.0",
         "33.0"
        ],
        [
         "47",
         "Whitefield",
         "2",
         "1459.0",
         "2.0",
         "94.82"
        ],
        [
         "48",
         "KR Puram",
         "2",
         "800.0",
         "1.0",
         "130.0"
        ],
        [
         "49",
         "Himagiri Meadows",
         "2",
         "869.0",
         "2.0",
         "36.0"
        ]
       ],
       "shape": {
        "columns": 5,
        "rows": 13246
       }
      },
      "text/html": [
       "<div>\n",
       "<style scoped>\n",
       "    .dataframe tbody tr th:only-of-type {\n",
       "        vertical-align: middle;\n",
       "    }\n",
       "\n",
       "    .dataframe tbody tr th {\n",
       "        vertical-align: top;\n",
       "    }\n",
       "\n",
       "    .dataframe thead th {\n",
       "        text-align: right;\n",
       "    }\n",
       "</style>\n",
       "<table border=\"1\" class=\"dataframe\">\n",
       "  <thead>\n",
       "    <tr style=\"text-align: right;\">\n",
       "      <th></th>\n",
       "      <th>location</th>\n",
       "      <th>size</th>\n",
       "      <th>total_sqft</th>\n",
       "      <th>bath</th>\n",
       "      <th>price</th>\n",
       "    </tr>\n",
       "  </thead>\n",
       "  <tbody>\n",
       "    <tr>\n",
       "      <th>0</th>\n",
       "      <td>Electronic City Phase II</td>\n",
       "      <td>2</td>\n",
       "      <td>1056.0</td>\n",
       "      <td>2.0</td>\n",
       "      <td>39.07</td>\n",
       "    </tr>\n",
       "    <tr>\n",
       "      <th>1</th>\n",
       "      <td>Chikka Tirupathi</td>\n",
       "      <td>4</td>\n",
       "      <td>2600.0</td>\n",
       "      <td>5.0</td>\n",
       "      <td>120.00</td>\n",
       "    </tr>\n",
       "    <tr>\n",
       "      <th>2</th>\n",
       "      <td>Uttarahalli</td>\n",
       "      <td>3</td>\n",
       "      <td>1440.0</td>\n",
       "      <td>2.0</td>\n",
       "      <td>62.00</td>\n",
       "    </tr>\n",
       "    <tr>\n",
       "      <th>3</th>\n",
       "      <td>Lingadheeranahalli</td>\n",
       "      <td>3</td>\n",
       "      <td>1521.0</td>\n",
       "      <td>3.0</td>\n",
       "      <td>95.00</td>\n",
       "    </tr>\n",
       "    <tr>\n",
       "      <th>4</th>\n",
       "      <td>Kothanur</td>\n",
       "      <td>2</td>\n",
       "      <td>1200.0</td>\n",
       "      <td>2.0</td>\n",
       "      <td>51.00</td>\n",
       "    </tr>\n",
       "    <tr>\n",
       "      <th>...</th>\n",
       "      <td>...</td>\n",
       "      <td>...</td>\n",
       "      <td>...</td>\n",
       "      <td>...</td>\n",
       "      <td>...</td>\n",
       "    </tr>\n",
       "    <tr>\n",
       "      <th>13315</th>\n",
       "      <td>Whitefield</td>\n",
       "      <td>5</td>\n",
       "      <td>3453.0</td>\n",
       "      <td>4.0</td>\n",
       "      <td>231.00</td>\n",
       "    </tr>\n",
       "    <tr>\n",
       "      <th>13316</th>\n",
       "      <td>Richards Town</td>\n",
       "      <td>4</td>\n",
       "      <td>3600.0</td>\n",
       "      <td>5.0</td>\n",
       "      <td>400.00</td>\n",
       "    </tr>\n",
       "    <tr>\n",
       "      <th>13317</th>\n",
       "      <td>Raja Rajeshwari Nagar</td>\n",
       "      <td>2</td>\n",
       "      <td>1141.0</td>\n",
       "      <td>2.0</td>\n",
       "      <td>60.00</td>\n",
       "    </tr>\n",
       "    <tr>\n",
       "      <th>13318</th>\n",
       "      <td>Padmanabhanagar</td>\n",
       "      <td>4</td>\n",
       "      <td>4689.0</td>\n",
       "      <td>4.0</td>\n",
       "      <td>488.00</td>\n",
       "    </tr>\n",
       "    <tr>\n",
       "      <th>13319</th>\n",
       "      <td>Doddathoguru</td>\n",
       "      <td>1</td>\n",
       "      <td>550.0</td>\n",
       "      <td>1.0</td>\n",
       "      <td>17.00</td>\n",
       "    </tr>\n",
       "  </tbody>\n",
       "</table>\n",
       "<p>13246 rows × 5 columns</p>\n",
       "</div>"
      ],
      "text/plain": [
       "                       location  size  total_sqft  bath   price\n",
       "0      Electronic City Phase II     2      1056.0   2.0   39.07\n",
       "1              Chikka Tirupathi     4      2600.0   5.0  120.00\n",
       "2                   Uttarahalli     3      1440.0   2.0   62.00\n",
       "3            Lingadheeranahalli     3      1521.0   3.0   95.00\n",
       "4                      Kothanur     2      1200.0   2.0   51.00\n",
       "...                         ...   ...         ...   ...     ...\n",
       "13315                Whitefield     5      3453.0   4.0  231.00\n",
       "13316             Richards Town     4      3600.0   5.0  400.00\n",
       "13317     Raja Rajeshwari Nagar     2      1141.0   2.0   60.00\n",
       "13318           Padmanabhanagar     4      4689.0   4.0  488.00\n",
       "13319              Doddathoguru     1       550.0   1.0   17.00\n",
       "\n",
       "[13246 rows x 5 columns]"
      ]
     },
     "execution_count": 36,
     "metadata": {},
     "output_type": "execute_result"
    }
   ],
   "source": [
    "def av_(x):\n",
    "    tokens = x.split('-')\n",
    "    if len(tokens) == 2:\n",
    "        return (float(tokens[0]) + float(tokens[1]))/2\n",
    "    try:\n",
    "        return float(x)\n",
    "    except:\n",
    "        return None\n",
    "    \n",
    "    \n",
    "df2['total_sqft'] = df2['total_sqft'].apply(av_)\n",
    "df2"
   ]
  },
  {
   "cell_type": "code",
   "execution_count": 37,
   "id": "7071e87a",
   "metadata": {},
   "outputs": [],
   "source": [
    "df3 = df2.copy()\n",
    "df3['price_per_sqft'] = df3['price']*10000 / df3['total_sqft']\n",
    "\n",
    "df3['location'] = df3['location'].apply(lambda x: x.strip())\n",
    "location_stats =  df3.groupby('location')['location'].agg('count').sort_values(ascending=False)\n",
    "location_stats_less_than_10 = location_stats[location_stats<10]"
   ]
  },
  {
   "cell_type": "code",
   "execution_count": 38,
   "id": "bd963296",
   "metadata": {},
   "outputs": [
    {
     "data": {
      "text/plain": [
       "255"
      ]
     },
     "execution_count": 38,
     "metadata": {},
     "output_type": "execute_result"
    }
   ],
   "source": [
    "df3.location = df3['location'].apply(\n",
    "    lambda x: 'Other location' \n",
    "    if x in location_stats_less_than_10 else x)\n",
    "\n",
    "len(df3['location'].unique())"
   ]
  },
  {
   "cell_type": "code",
   "execution_count": 39,
   "id": "d92a9977",
   "metadata": {},
   "outputs": [
    {
     "data": {
      "text/plain": [
       "(12502, 6)"
      ]
     },
     "execution_count": 39,
     "metadata": {},
     "output_type": "execute_result"
    }
   ],
   "source": [
    "#Removing some outliers using domain knoledge\n",
    "df4 = df3[~((df3['total_sqft']/df3['size'])<300)]\n",
    "df4.shape"
   ]
  },
  {
   "cell_type": "code",
   "execution_count": 40,
   "id": "a0f74623",
   "metadata": {},
   "outputs": [
    {
     "data": {
      "text/plain": [
       "(10222, 6)"
      ]
     },
     "execution_count": 40,
     "metadata": {},
     "output_type": "execute_result"
    }
   ],
   "source": [
    "def remove_price_per_sq_outliers(dataframe):\n",
    "    df_out = pd.DataFrame()\n",
    "    for key, sub_df in dataframe.groupby('location'):\n",
    "        m = np.mean(sub_df['price_per_sqft'])\n",
    "        st = np.std(sub_df['price_per_sqft'])\n",
    "        reduced_df = sub_df[(sub_df['price_per_sqft']>(m-st)) & (sub_df['price_per_sqft']<=(m+st))]\n",
    "        df_out = pd.concat([df_out, reduced_df], ignore_index=True)\n",
    "    return df_out\n",
    "df5 = remove_price_per_sq_outliers(df4)\n",
    "df5.shape"
   ]
  },
  {
   "cell_type": "code",
   "execution_count": 41,
   "id": "4b280e4f",
   "metadata": {},
   "outputs": [
    {
     "data": {
      "image/png": "[encoded data removed]",
      "text/plain": [
       "<Figure size 1000x600 with 1 Axes>"
      ]
     },
     "metadata": {},
     "output_type": "display_data"
    }
   ],
   "source": [
    "def plot_scatter_chart(dataframe, location):\n",
    "    size2 = dataframe[(dataframe['location'] == location) & (dataframe['size'] == 2)]\n",
    "    size3 = dataframe[(dataframe['location'] == location) & (dataframe['size'] == 3)]\n",
    "    plt.figure(figsize=(10,6))\n",
    "    plt.scatter(size2.total_sqft, size2.price, color='blue', label='2 size', s=50)\n",
    "    plt.scatter(size3.total_sqft, size3.price, color='green', marker='+', label='3 size', s=50)\n",
    "    plt.xlabel('Total Square Feet')\n",
    "    plt.ylabel('Price Per Square Feet')\n",
    "    plt.legend()\n",
    "plot_scatter_chart(df5, 'Vijayanagar')"
   ]
  },
  {
   "cell_type": "code",
   "execution_count": 42,
   "id": "d95bacc0",
   "metadata": {},
   "outputs": [
    {
     "data": {
      "text/plain": [
       "(7369, 6)"
      ]
     },
     "execution_count": 42,
     "metadata": {},
     "output_type": "execute_result"
    }
   ],
   "source": [
    "def remove_bedroom_outliers(dataframe):\n",
    "    exclude_indices = np.array([])\n",
    "    for location, df_location in dataframe.groupby('location'):\n",
    "        bedroom_stat = {}\n",
    "        for bedroom, df_bedroom in df_location.groupby('size'):\n",
    "            bedroom_stat[bedroom] = {\n",
    "                'mean': np.mean(df_bedroom['price_per_sqft']),\n",
    "                'std': np.std(df_bedroom['price_per_sqft']),\n",
    "                'count': df_bedroom.shape[0]\n",
    "            }\n",
    "        for bedroom, df_bedroom in df_location.groupby('size'):\n",
    "            stats = bedroom_stat.get(bedroom-1)\n",
    "            if stats and stats['count']>5:\n",
    "                exclude_indices = np.append(exclude_indices, df_bedroom[df_bedroom['price_per_sqft']<(stats['mean'])].index.values)\n",
    "    return dataframe.drop(exclude_indices, axis = 'index')\n",
    "\n",
    "df6 = remove_bedroom_outliers(df5)\n",
    "df6.shape"
   ]
  },
  {
   "cell_type": "code",
   "execution_count": 43,
   "id": "7930c135",
   "metadata": {},
   "outputs": [
    {
     "data": {
      "image/png": "[encoded data removed]",
      "text/plain": [
       "<Figure size 1000x600 with 1 Axes>"
      ]
     },
     "metadata": {},
     "output_type": "display_data"
    }
   ],
   "source": [
    "plot_scatter_chart(df6, 'Vijayanagar')"
   ]
  },
  {
   "cell_type": "code",
   "execution_count": 44,
   "id": "34cb52be",
   "metadata": {},
   "outputs": [
    {
     "data": {
      "text/plain": [
       "(7364, 6)"
      ]
     },
     "execution_count": 44,
     "metadata": {},
     "output_type": "execute_result"
    }
   ],
   "source": [
    "# Removing Outliers of Bathroom Greater Than Bedroom + 2 in Our Data Set\n",
    "df7 = df6[~(df6['bath']>(df6['size'] + 2))]\n",
    "df7.shape"
   ]
  },
  {
   "cell_type": "code",
   "execution_count": 45,
   "id": "127b90e9",
   "metadata": {},
   "outputs": [
    {
     "data": {
      "application/vnd.microsoft.datawrangler.viewer.v0+json": {
       "columns": [
        {
         "name": "index",
         "rawType": "int64",
         "type": "integer"
        },
        {
         "name": "location",
         "rawType": "object",
         "type": "string"
        },
        {
         "name": "size",
         "rawType": "int64",
         "type": "integer"
        },
        {
         "name": "total_sqft",
         "rawType": "float64",
         "type": "float"
        },
        {
         "name": "bath",
         "rawType": "float64",
         "type": "float"
        },
        {
         "name": "price",
         "rawType": "float64",
         "type": "float"
        }
       ],
       "ref": "762e5701-501b-403e-b240-c56ed1079550",
       "rows": [
        [
         "0",
         "1st block jayanagar",
         "4",
         "2850.0",
         "4.0",
         "428.0"
        ],
        [
         "1",
         "1st block jayanagar",
         "3",
         "1630.0",
         "3.0",
         "194.0"
        ],
        [
         "2",
         "1st block jayanagar",
         "3",
         "1875.0",
         "2.0",
         "235.0"
        ],
        [
         "3",
         "1st block jayanagar",
         "3",
         "1200.0",
         "2.0",
         "130.0"
        ],
        [
         "4",
         "1st block jayanagar",
         "2",
         "1235.0",
         "2.0",
         "148.0"
        ]
       ],
       "shape": {
        "columns": 5,
        "rows": 5
       }
      },
      "text/html": [
       "<div>\n",
       "<style scoped>\n",
       "    .dataframe tbody tr th:only-of-type {\n",
       "        vertical-align: middle;\n",
       "    }\n",
       "\n",
       "    .dataframe tbody tr th {\n",
       "        vertical-align: top;\n",
       "    }\n",
       "\n",
       "    .dataframe thead th {\n",
       "        text-align: right;\n",
       "    }\n",
       "</style>\n",
       "<table border=\"1\" class=\"dataframe\">\n",
       "  <thead>\n",
       "    <tr style=\"text-align: right;\">\n",
       "      <th></th>\n",
       "      <th>location</th>\n",
       "      <th>size</th>\n",
       "      <th>total_sqft</th>\n",
       "      <th>bath</th>\n",
       "      <th>price</th>\n",
       "    </tr>\n",
       "  </thead>\n",
       "  <tbody>\n",
       "    <tr>\n",
       "      <th>0</th>\n",
       "      <td>1st block jayanagar</td>\n",
       "      <td>4</td>\n",
       "      <td>2850.0</td>\n",
       "      <td>4.0</td>\n",
       "      <td>428.0</td>\n",
       "    </tr>\n",
       "    <tr>\n",
       "      <th>1</th>\n",
       "      <td>1st block jayanagar</td>\n",
       "      <td>3</td>\n",
       "      <td>1630.0</td>\n",
       "      <td>3.0</td>\n",
       "      <td>194.0</td>\n",
       "    </tr>\n",
       "    <tr>\n",
       "      <th>2</th>\n",
       "      <td>1st block jayanagar</td>\n",
       "      <td>3</td>\n",
       "      <td>1875.0</td>\n",
       "      <td>2.0</td>\n",
       "      <td>235.0</td>\n",
       "    </tr>\n",
       "    <tr>\n",
       "      <th>3</th>\n",
       "      <td>1st block jayanagar</td>\n",
       "      <td>3</td>\n",
       "      <td>1200.0</td>\n",
       "      <td>2.0</td>\n",
       "      <td>130.0</td>\n",
       "    </tr>\n",
       "    <tr>\n",
       "      <th>4</th>\n",
       "      <td>1st block jayanagar</td>\n",
       "      <td>2</td>\n",
       "      <td>1235.0</td>\n",
       "      <td>2.0</td>\n",
       "      <td>148.0</td>\n",
       "    </tr>\n",
       "  </tbody>\n",
       "</table>\n",
       "</div>"
      ],
      "text/plain": [
       "              location  size  total_sqft  bath  price\n",
       "0  1st block jayanagar     4      2850.0   4.0  428.0\n",
       "1  1st block jayanagar     3      1630.0   3.0  194.0\n",
       "2  1st block jayanagar     3      1875.0   2.0  235.0\n",
       "3  1st block jayanagar     3      1200.0   2.0  130.0\n",
       "4  1st block jayanagar     2      1235.0   2.0  148.0"
      ]
     },
     "execution_count": 45,
     "metadata": {},
     "output_type": "execute_result"
    }
   ],
   "source": [
    "df8 = df7.drop('price_per_sqft', axis=1)\n",
    "df8['location'] = df8['location'].apply(lambda x: x.strip().lower())\n",
    "df8.head(5)"
   ]
  },
  {
   "cell_type": "code",
   "execution_count": 46,
   "id": "ab9ca14e",
   "metadata": {},
   "outputs": [],
   "source": [
    "# df8[df8['total_sqft']<=df8['total_sqft'].min()+100]"
   ]
  },
  {
   "cell_type": "code",
   "execution_count": 47,
   "id": "b7f936ca",
   "metadata": {},
   "outputs": [],
   "source": [
    "df_dummies = pd.get_dummies(df8['location'], dtype='int')"
   ]
  },
  {
   "cell_type": "code",
   "execution_count": 48,
   "id": "b0252880",
   "metadata": {},
   "outputs": [
    {
     "name": "stdout",
     "output_type": "stream",
     "text": [
      "True\n"
     ]
    }
   ],
   "source": [
    "print('other location' in df_dummies.columns)"
   ]
  },
  {
   "cell_type": "code",
   "execution_count": 49,
   "id": "21b4a112",
   "metadata": {},
   "outputs": [],
   "source": [
    "# Ensure 'other location' is always a column in your dummies\n",
    "if 'other location' not in df_dummies.columns:\n",
    "    df_dummies['other location'] = 0"
   ]
  },
  {
   "cell_type": "code",
   "execution_count": 50,
   "id": "3d8c307f",
   "metadata": {},
   "outputs": [],
   "source": [
    "df10 = pd.concat([df8, df_dummies], axis=1)\n",
    "df10.drop('location', axis=1, inplace=True)"
   ]
  },
  {
   "cell_type": "code",
   "execution_count": 51,
   "id": "37618a6e",
   "metadata": {},
   "outputs": [
    {
     "name": "stdout",
     "output_type": "stream",
     "text": [
      "0.9583258913219138\n",
      "0.8975585887975404\n"
     ]
    }
   ],
   "source": [
    "from sklearn.model_selection import ShuffleSplit, cross_val_score, GridSearchCV\n",
    "from sklearn.linear_model import LinearRegression, Lasso\n",
    "from sklearn.tree import DecisionTreeRegressor\n",
    "from sklearn.preprocessing import StandardScaler\n",
    "from sklearn.ensemble import RandomForestRegressor\n",
    "\n",
    "X = df10.drop('price', axis=1)\n",
    "y = df10.price\n",
    "\n",
    "scaler = StandardScaler().fit(X)\n",
    "l_model = RandomForestRegressor(criterion='poisson', max_depth=50)\n",
    "X_scale = scaler.transform(X)\n",
    "X_train, X_test, y_train, y_test = train_test_split(X_scale, y, test_size=.25, random_state=42)\n",
    "c_v = ShuffleSplit(n_splits=5, test_size=.25, random_state=42)\n",
    "cv_score = cross_val_score(RandomForestRegressor(criterion='poisson', max_depth=50), X, y, cv=c_v)\n",
    "score = cv_score.mean()\n",
    "l_model.fit(X_train, y_train)\n",
    "\n",
    "print(l_model.score(X_train, y_train))\n",
    "print(l_model.score(X_test, y_test))\n"
   ]
  },
  {
   "cell_type": "code",
   "execution_count": 52,
   "id": "3950b59e",
   "metadata": {},
   "outputs": [
    {
     "name": "stdout",
     "output_type": "stream",
     "text": [
      "55.786\n"
     ]
    }
   ],
   "source": [
    "def predict_price(location, total_sqft, size, bath):\n",
    "    x = np.zeros(len(X.columns))\n",
    "    try:\n",
    "        size_idx = X.columns.get_loc('size')\n",
    "        sqft_idx = X.columns.get_loc('total_sqft')\n",
    "        bath_idx = X.columns.get_loc('bath')\n",
    "    except Exception as e:\n",
    "        raise Exception(\"Column order mismatch: \" + str(e))\n",
    "    x[size_idx] = size\n",
    "    x[sqft_idx] = total_sqft\n",
    "    x[bath_idx] = bath\n",
    "    if location in X.columns:\n",
    "        loc_idx = X.columns.get_loc(location)\n",
    "        x[loc_idx] = 1\n",
    "    x_df = pd.DataFrame([x], columns=X.columns)\n",
    "    x_scaled = scaler.transform(x_df)\n",
    "    pred = l_model.predict(x_scaled)[0]\n",
    "    return max(0, pred)  # Prevent negative predictions\n",
    "print(predict_price('indira nagar', 5, 3, 3))\n"
   ]
  },
  {
   "cell_type": "code",
   "execution_count": 53,
   "id": "3b97fd88",
   "metadata": {},
   "outputs": [],
   "source": [
    "def get_the_best_model(X, y):\n",
    "    algo = {\n",
    "        'linear_R':{\n",
    "            'model':LinearRegression(),\n",
    "            'params':{\n",
    "                'positive':[True, False]\n",
    "            }\n",
    "        },\n",
    "\n",
    "        'Desicion_T':{\n",
    "            'model':DecisionTreeRegressor(),\n",
    "            'params':{\n",
    "                'criterion':['absolute_error', 'friedman_mse'],\n",
    "                'splitter':['random', 'best']\n",
    "            }\n",
    "        },\n",
    "\n",
    "        'Lasso':{\n",
    "            'model':Lasso(),\n",
    "            'params':{\n",
    "                'alpha':[1,2],\n",
    "                'selection':['random', 'cyclic']\n",
    "            }\n",
    "        }\n",
    "    }\n",
    "\n",
    "    scores = []\n",
    "    c_v = ShuffleSplit(n_splits=5, test_size=.25, random_state=42)\n",
    "    for algo_name, configure in algo.items():\n",
    "        gri = GridSearchCV(configure['model'], configure['params'], return_train_score=False, error_score='raise')\n",
    "        gri.fit(X, y)\n",
    "        scores.append(\n",
    "            {\n",
    "            'model':algo_name,\n",
    "            'best_score':gri.best_score_,\n",
    "            'best_parameters':gri.best_params_\n",
    "            }\n",
    "        )\n",
    "\n",
    "    return pd.DataFrame(scores, columns=[ 'model','best_score','best_parameters'])"
   ]
  },
  {
   "cell_type": "code",
   "execution_count": 54,
   "id": "1402e644",
   "metadata": {},
   "outputs": [],
   "source": [
    "# get_the_best_model(X_train, y_train)"
   ]
  },
  {
   "cell_type": "code",
   "execution_count": 59,
   "id": "6b78dcc0",
   "metadata": {},
   "outputs": [
    {
     "data": {
      "application/vnd.microsoft.datawrangler.viewer.v0+json": {
       "columns": [
        {
         "name": "index",
         "rawType": "int64",
         "type": "integer"
        },
        {
         "name": "location",
         "rawType": "object",
         "type": "string"
        },
        {
         "name": "size",
         "rawType": "int64",
         "type": "integer"
        },
        {
         "name": "total_sqft",
         "rawType": "float64",
         "type": "float"
        },
        {
         "name": "bath",
         "rawType": "float64",
         "type": "float"
        },
        {
         "name": "price",
         "rawType": "float64",
         "type": "float"
        }
       ],
       "ref": "34a914b0-d3c4-4a4b-a73b-f102be0c18fb",
       "rows": [
        [
         "0",
         "1st block jayanagar",
         "4",
         "2850.0",
         "4.0",
         "428.0"
        ],
        [
         "1",
         "1st block jayanagar",
         "3",
         "1630.0",
         "3.0",
         "194.0"
        ],
        [
         "2",
         "1st block jayanagar",
         "3",
         "1875.0",
         "2.0",
         "235.0"
        ],
        [
         "3",
         "1st block jayanagar",
         "3",
         "1200.0",
         "2.0",
         "130.0"
        ],
        [
         "4",
         "1st block jayanagar",
         "2",
         "1235.0",
         "2.0",
         "148.0"
        ],
        [
         "5",
         "1st block jayanagar",
         "4",
         "2750.0",
         "4.0",
         "413.0"
        ],
        [
         "6",
         "1st block jayanagar",
         "4",
         "2450.0",
         "4.0",
         "368.0"
        ],
        [
         "7",
         "1st block koramangala",
         "2",
         "1415.0",
         "2.0",
         "110.0"
        ],
        [
         "8",
         "1st block koramangala",
         "2",
         "860.0",
         "2.0",
         "65.5"
        ],
        [
         "9",
         "1st block koramangala",
         "4",
         "3000.0",
         "3.0",
         "300.0"
        ],
        [
         "10",
         "1st block koramangala",
         "3",
         "2350.0",
         "3.0",
         "210.0"
        ],
        [
         "11",
         "1st block koramangala",
         "4",
         "3000.0",
         "5.0",
         "500.0"
        ],
        [
         "13",
         "1st phase jp nagar",
         "3",
         "1875.0",
         "3.0",
         "167.0"
        ],
        [
         "14",
         "1st phase jp nagar",
         "5",
         "1500.0",
         "5.0",
         "85.0"
        ],
        [
         "15",
         "1st phase jp nagar",
         "3",
         "2065.0",
         "4.0",
         "210.0"
        ],
        [
         "17",
         "1st phase jp nagar",
         "3",
         "2059.0",
         "3.0",
         "225.0"
        ],
        [
         "18",
         "1st phase jp nagar",
         "2",
         "1394.0",
         "2.0",
         "100.0"
        ],
        [
         "19",
         "1st phase jp nagar",
         "2",
         "1077.0",
         "2.0",
         "93.0"
        ],
        [
         "20",
         "1st phase jp nagar",
         "2",
         "1566.0",
         "2.0",
         "180.0"
        ],
        [
         "21",
         "1st phase jp nagar",
         "1",
         "840.0",
         "2.0",
         "50.0"
        ],
        [
         "22",
         "1st phase jp nagar",
         "3",
         "1590.0",
         "3.0",
         "131.0"
        ],
        [
         "23",
         "1st phase jp nagar",
         "3",
         "2180.0",
         "3.0",
         "210.0"
        ],
        [
         "24",
         "1st phase jp nagar",
         "2",
         "1180.0",
         "2.0",
         "88.5"
        ],
        [
         "25",
         "1st phase jp nagar",
         "2",
         "1200.0",
         "2.0",
         "86.0"
        ],
        [
         "26",
         "1st phase jp nagar",
         "2",
         "1394.0",
         "2.0",
         "85.0"
        ],
        [
         "27",
         "1st phase jp nagar",
         "3",
         "2077.0",
         "3.0",
         "175.0"
        ],
        [
         "29",
         "1st phase jp nagar",
         "2",
         "1205.0",
         "2.0",
         "85.0"
        ],
        [
         "31",
         "1st phase jp nagar",
         "2",
         "900.0",
         "2.0",
         "75.0"
        ],
        [
         "32",
         "2nd phase judicial layout",
         "3",
         "1450.0",
         "2.0",
         "50.75"
        ],
        [
         "33",
         "2nd phase judicial layout",
         "2",
         "1150.0",
         "2.0",
         "40.25"
        ],
        [
         "34",
         "2nd phase judicial layout",
         "3",
         "1350.0",
         "2.0",
         "47.25"
        ],
        [
         "35",
         "2nd phase judicial layout",
         "3",
         "1350.0",
         "2.0",
         "47.25"
        ],
        [
         "36",
         "2nd phase judicial layout",
         "2",
         "900.0",
         "2.0",
         "41.0"
        ],
        [
         "37",
         "2nd phase judicial layout",
         "3",
         "1681.0",
         "3.0",
         "69.0"
        ],
        [
         "38",
         "2nd phase judicial layout",
         "3",
         "1350.0",
         "2.0",
         "47.25"
        ],
        [
         "39",
         "2nd phase judicial layout",
         "2",
         "1150.0",
         "2.0",
         "40.25"
        ],
        [
         "40",
         "2nd stage nagarbhavi",
         "4",
         "1500.0",
         "4.0",
         "220.0"
        ],
        [
         "41",
         "2nd stage nagarbhavi",
         "6",
         "3000.0",
         "8.0",
         "451.0"
        ],
        [
         "42",
         "2nd stage nagarbhavi",
         "6",
         "2400.0",
         "8.0",
         "450.0"
        ],
        [
         "43",
         "2nd stage nagarbhavi",
         "4",
         "1350.0",
         "4.0",
         "200.0"
        ],
        [
         "44",
         "2nd stage nagarbhavi",
         "4",
         "1200.0",
         "4.0",
         "225.0"
        ],
        [
         "45",
         "2nd stage nagarbhavi",
         "4",
         "1500.0",
         "3.0",
         "230.0"
        ],
        [
         "46",
         "5th block hbr layout",
         "2",
         "1206.0",
         "2.0",
         "56.0"
        ],
        [
         "47",
         "5th block hbr layout",
         "3",
         "1270.0",
         "2.0",
         "70.0"
        ],
        [
         "48",
         "5th block hbr layout",
         "2",
         "1312.0",
         "2.0",
         "69.0"
        ],
        [
         "49",
         "5th block hbr layout",
         "2",
         "1100.0",
         "2.0",
         "48.0"
        ],
        [
         "50",
         "5th block hbr layout",
         "5",
         "3600.0",
         "5.0",
         "130.0"
        ],
        [
         "51",
         "5th block hbr layout",
         "6",
         "5100.0",
         "5.0",
         "300.0"
        ],
        [
         "52",
         "5th phase jp nagar",
         "2",
         "1075.0",
         "2.0",
         "60.0"
        ],
        [
         "53",
         "5th phase jp nagar",
         "2",
         "1150.0",
         "3.0",
         "52.5"
        ]
       ],
       "shape": {
        "columns": 5,
        "rows": 7364
       }
      },
      "text/html": [
       "<div>\n",
       "<style scoped>\n",
       "    .dataframe tbody tr th:only-of-type {\n",
       "        vertical-align: middle;\n",
       "    }\n",
       "\n",
       "    .dataframe tbody tr th {\n",
       "        vertical-align: top;\n",
       "    }\n",
       "\n",
       "    .dataframe thead th {\n",
       "        text-align: right;\n",
       "    }\n",
       "</style>\n",
       "<table border=\"1\" class=\"dataframe\">\n",
       "  <thead>\n",
       "    <tr style=\"text-align: right;\">\n",
       "      <th></th>\n",
       "      <th>location</th>\n",
       "      <th>size</th>\n",
       "      <th>total_sqft</th>\n",
       "      <th>bath</th>\n",
       "      <th>price</th>\n",
       "    </tr>\n",
       "  </thead>\n",
       "  <tbody>\n",
       "    <tr>\n",
       "      <th>0</th>\n",
       "      <td>1st block jayanagar</td>\n",
       "      <td>4</td>\n",
       "      <td>2850.0</td>\n",
       "      <td>4.0</td>\n",
       "      <td>428.0</td>\n",
       "    </tr>\n",
       "    <tr>\n",
       "      <th>1</th>\n",
       "      <td>1st block jayanagar</td>\n",
       "      <td>3</td>\n",
       "      <td>1630.0</td>\n",
       "      <td>3.0</td>\n",
       "      <td>194.0</td>\n",
       "    </tr>\n",
       "    <tr>\n",
       "      <th>2</th>\n",
       "      <td>1st block jayanagar</td>\n",
       "      <td>3</td>\n",
       "      <td>1875.0</td>\n",
       "      <td>2.0</td>\n",
       "      <td>235.0</td>\n",
       "    </tr>\n",
       "    <tr>\n",
       "      <th>3</th>\n",
       "      <td>1st block jayanagar</td>\n",
       "      <td>3</td>\n",
       "      <td>1200.0</td>\n",
       "      <td>2.0</td>\n",
       "      <td>130.0</td>\n",
       "    </tr>\n",
       "    <tr>\n",
       "      <th>4</th>\n",
       "      <td>1st block jayanagar</td>\n",
       "      <td>2</td>\n",
       "      <td>1235.0</td>\n",
       "      <td>2.0</td>\n",
       "      <td>148.0</td>\n",
       "    </tr>\n",
       "    <tr>\n",
       "      <th>...</th>\n",
       "      <td>...</td>\n",
       "      <td>...</td>\n",
       "      <td>...</td>\n",
       "      <td>...</td>\n",
       "      <td>...</td>\n",
       "    </tr>\n",
       "    <tr>\n",
       "      <th>10211</th>\n",
       "      <td>yeshwanthpur</td>\n",
       "      <td>2</td>\n",
       "      <td>1195.0</td>\n",
       "      <td>2.0</td>\n",
       "      <td>100.0</td>\n",
       "    </tr>\n",
       "    <tr>\n",
       "      <th>10212</th>\n",
       "      <td>yeshwanthpur</td>\n",
       "      <td>3</td>\n",
       "      <td>1692.0</td>\n",
       "      <td>3.0</td>\n",
       "      <td>108.0</td>\n",
       "    </tr>\n",
       "    <tr>\n",
       "      <th>10214</th>\n",
       "      <td>yeshwanthpur</td>\n",
       "      <td>6</td>\n",
       "      <td>2500.0</td>\n",
       "      <td>5.0</td>\n",
       "      <td>185.0</td>\n",
       "    </tr>\n",
       "    <tr>\n",
       "      <th>10219</th>\n",
       "      <td>yeshwanthpur</td>\n",
       "      <td>3</td>\n",
       "      <td>1855.0</td>\n",
       "      <td>3.0</td>\n",
       "      <td>135.0</td>\n",
       "    </tr>\n",
       "    <tr>\n",
       "      <th>10220</th>\n",
       "      <td>yeshwanthpur</td>\n",
       "      <td>3</td>\n",
       "      <td>1876.0</td>\n",
       "      <td>3.0</td>\n",
       "      <td>160.0</td>\n",
       "    </tr>\n",
       "  </tbody>\n",
       "</table>\n",
       "<p>7364 rows × 5 columns</p>\n",
       "</div>"
      ],
      "text/plain": [
       "                  location  size  total_sqft  bath  price\n",
       "0      1st block jayanagar     4      2850.0   4.0  428.0\n",
       "1      1st block jayanagar     3      1630.0   3.0  194.0\n",
       "2      1st block jayanagar     3      1875.0   2.0  235.0\n",
       "3      1st block jayanagar     3      1200.0   2.0  130.0\n",
       "4      1st block jayanagar     2      1235.0   2.0  148.0\n",
       "...                    ...   ...         ...   ...    ...\n",
       "10211         yeshwanthpur     2      1195.0   2.0  100.0\n",
       "10212         yeshwanthpur     3      1692.0   3.0  108.0\n",
       "10214         yeshwanthpur     6      2500.0   5.0  185.0\n",
       "10219         yeshwanthpur     3      1855.0   3.0  135.0\n",
       "10220         yeshwanthpur     3      1876.0   3.0  160.0\n",
       "\n",
       "[7364 rows x 5 columns]"
      ]
     },
     "execution_count": 59,
     "metadata": {},
     "output_type": "execute_result"
    }
   ],
   "source": [
    "df8"
   ]
  },
  {
   "cell_type": "code",
   "execution_count": 55,
   "id": "1113e45f",
   "metadata": {},
   "outputs": [
    {
     "name": "stdout",
     "output_type": "stream",
     "text": [
      "77.72248685349808\n"
     ]
    }
   ],
   "source": [
    "\n",
    "def predict_price(location, total_sqft, size, bath):\n",
    "    x = np.zeros(len(X.columns))\n",
    "    try:\n",
    "        size_idx = X.columns.get_loc('size')\n",
    "        sqft_idx = X.columns.get_loc('total_sqft')\n",
    "        bath_idx = X.columns.get_loc('bath')\n",
    "    except Exception as e:\n",
    "        raise Exception(\"Column order mismatch: \" + str(e))\n",
    "    x[size_idx] = size\n",
    "    x[sqft_idx] = total_sqft\n",
    "    x[bath_idx] = bath\n",
    "    if location in X.columns:\n",
    "        loc_idx = X.columns.get_loc(location)\n",
    "        x[loc_idx] = 1\n",
    "    # Convert to DataFrame with correct columns\n",
    "    x_df = pd.DataFrame([x], columns=X.columns)\n",
    "    x_scaled = scaler.transform(x_df)\n",
    "    return l_model.predict(x_scaled)[0]\n",
    "try:\n",
    "    print(predict_price('Indira Nagar', 1555, 3, 3))\n",
    "except Exception as e:\n",
    "    print(e)"
   ]
  },
  {
   "cell_type": "code",
   "execution_count": 56,
   "id": "101d56a6",
   "metadata": {},
   "outputs": [],
   "source": [
    "with open('bhd_model.pickle', 'wb') as f:\n",
    "    pickle.dump(l_model, f)\n",
    "\n",
    "    \n",
    "columns = {\n",
    "    'data_column': [col for col in X.columns]\n",
    "}\n",
    "with open('data_columns.json', 'w') as f:\n",
    "    f.write(json.dumps(columns))\n",
    "    \n",
    "with open('scaler.pickle', 'wb') as f:\n",
    "    pickle.dump(scaler, f)"
   ]
  }
 ],
 "metadata": {
  "kernelspec": {
   "display_name": "Python 3",
   "language": "python",
   "name": "python3"
  },
  "language_info": {
   "codemirror_mode": {
    "name": "ipython",
    "version": 3
   },
   "file_extension": ".py",
   "mimetype": "text/x-python",
   "name": "python",
   "nbconvert_exporter": "python",
   "pygments_lexer": "ipython3",
   "version": "3.13.1"
  }
 },
 "nbformat": 4,
 "nbformat_minor": 5
}
